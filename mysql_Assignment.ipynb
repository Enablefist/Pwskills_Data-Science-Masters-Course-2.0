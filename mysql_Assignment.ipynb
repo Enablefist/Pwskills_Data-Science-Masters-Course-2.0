{
 "cells": [
  {
   "attachments": {},
   "cell_type": "markdown",
   "metadata": {},
   "source": [
    "Q1.What is a database? Differentiate between SQL and NoSQL databases."
   ]
  },
  {
   "cell_type": "code",
   "execution_count": null,
   "metadata": {},
   "outputs": [],
   "source": [
    "\"\"\"\n",
    "A database is a collection of data stored in a computer system.\n",
    "SQL databases are primarily called as Relational Databases (RDBMS); \n",
    "whereas NoSQL database are primarily called as non-relational or distributed database.\n",
    "SQL databases are table based databases whereas NoSQL databases are document based, key-value pairs,\n",
    "graph databases or wide-column stores.\n",
    "SQL databases have predefined schema whereas NoSQL databases have dynamic schema for unstructured data.\n",
    "SQL databases are vertically scalable whereas the NoSQL databases are horizontally scalable.\n",
    "SQL databases are not best fit for hierarchical data storage whereas\n",
    "NoSQL database are fit for hierarchical data storage as it follows the key-value pair way of storing data similar to JSON data.\n",
    "SQL databases are best fit for heavy duty transactional type applications, as it is more stable and promises the atomicity as well as integrity of the data. \n",
    "While you can use NoSQL for transactions purpose,\n",
    "it is still not comparable and stable enough in high load and for complex transactional applications.\n",
    "SQL databases are not required to determine the schema before storing the data whereas NoSQL databases doesn't require to determine the schema before storing the data. You can store any kind of data in any form. \"\"\""
   ]
  },
  {
   "attachments": {},
   "cell_type": "markdown",
   "metadata": {},
   "source": [
    "Q2.What is DDL? Explain why CREATE, DROP, ALTER, and TRUNCATE are used with an example"
   ]
  },
  {
   "cell_type": "code",
   "execution_count": null,
   "metadata": {},
   "outputs": [],
   "source": [
    "#What is DDL? Explain why CREATE, DROP, ALTER, and TRUNCATE are used with an example\n",
    "\"\"\"\n",
    "DDL stands for Data Definition Language. DDL statements are used to create database, schema, constraints, users, tables etc.\n",
    "DDL statement is used to create objects in the database.\n",
    "CREATE - to create objects in the database\n",
    "DROP - to delete objects from the database\n",
    "ALTER - alters the structure of the database\n",
    "TRUNCATE - remove all records from a table, including all spaces allocated for the records are removed\n",
    "\"\"\"\n",
    "#example with python'\n",
    "import mysql.connector\n",
    "mydb = mysql.connector.connect(\n",
    "    host=\"localhost\",\n",
    "    user=\"root\", passwd=\"<PASSWORD>\", db='test')\n",
    "mycursor = mydb.cursor()\n",
    "mycursor.execute(\"CREATE TABLE customers (name VARCHAR(255), address VARCHAR(255))\")\n",
    "mycursor.execute(\"SHOW TABLES\")\n",
    "for x in mycursor:\n",
    "    print(x)\n",
    "mycursor.execute(\"DROP TABLE customers\")\n",
    "mycursor.execute(\"SHOW TABLES\")\n",
    "for x in mycursor:\n",
    "    print(x)"
   ]
  },
  {
   "attachments": {},
   "cell_type": "markdown",
   "metadata": {},
   "source": [
    "Q3.What is DML? Explain INSERT, UPDATE, and DELETE with an example."
   ]
  },
  {
   "cell_type": "code",
   "execution_count": null,
   "metadata": {},
   "outputs": [],
   "source": [
    "#What is DML? Explain INSERT, UPDATE, and DELETE with an example.\n",
    "\"\"\"\n",
    "DML stands for Data Manipulation Language. DML statements are used for managing data within schema objects.\n",
    "DML statement is used to add, retrieve or update the data in the database.\n",
    "INSERT - to insert data into a table\n",
    "UPDATE - updates existing data within a table\n",
    "DELETE - deletes all records from a table, the space for the records remain\n",
    "\"\"\"\n",
    "#example with python'\n",
    "import mysql.connector\n",
    "mydb = mysql.connector.connect(\n",
    "    host=\"localhost\",\n",
    "    user=\"root\", passwd=\"<PASSWORD>\", db='test')\n",
    "mycursor = mydb.cursor()\n",
    "sql = \"INSERT INTO customers (name, address) VALUES (%s, %s)\"\n",
    "val = (\"John\", \"Highway 21\")\n",
    "mycursor.execute(sql, val)\n",
    "mydb.commit()\n",
    "print(mycursor.rowcount, \"record inserted.\")\n",
    "mycursor.execute(\"SELECT * FROM customers\")\n",
    "myresult = mycursor.fetchall()\n",
    "for x in myresult:\n",
    "    print(x)\n",
    "sql = \"UPDATE customers SET address = 'Canyon 123' WHERE address = 'Valley 345'\"\n",
    "mycursor.execute(sql)\n",
    "mydb.commit()\n",
    "print(mycursor.rowcount, \"record(s) affected\")\n",
    "mycursor.execute(\"SELECT * FROM customers\")\n",
    "myresult = mycursor.fetchall()\n",
    "for x in myresult:\n",
    "    print(x)\n",
    "sql = \"DELETE FROM customers WHERE address = 'Mountain 21'\"\n",
    "mycursor.execute(sql)\n",
    "mydb.commit()\n",
    "print(mycursor.rowcount, \"record(s) deleted\")\n",
    "mycursor.execute(\"SELECT * FROM customers\")\n",
    "myresult = mycursor.fetchall()\n",
    "for x in myresult:\n",
    "    print(x)"
   ]
  },
  {
   "attachments": {},
   "cell_type": "markdown",
   "metadata": {},
   "source": [
    "Q4. What is DQL? Explain SELECT with an example."
   ]
  },
  {
   "cell_type": "code",
   "execution_count": null,
   "metadata": {},
   "outputs": [],
   "source": [
    "#Q4. What is DQL? Explain SELECT with an example.\n",
    "\"\"\"\n",
    "DQL stands for Data Query Language. DQL statements are used for performing queries on the data within schema objects.\n",
    "DQL statement is used to fetch the data from the database.\n",
    "SELECT - to query data from a table\n",
    "\"\"\"\n",
    "#example with python'\n",
    "import mysql.connector\n",
    "mydb = mysql.connector.connect(\n",
    "    host=\"localhost\",\n",
    "    user=\"root\", password=\"<PASSWORD>\",database='test')\n",
    "mycursor = mydb.cursor()\n",
    "mycursor.execute(\"SELECT * FROM customers\")\n",
    "myresult = mycursor.fetchall()\n",
    "for x in myresult:\n",
    "    print(x)\n",
    "mycursor.execute(\"SELECT name, address FROM customers\")\n",
    "myresult = mycursor.fetchall()\n",
    "for x in myresult:\n",
    "    print(x)"
   ]
  },
  {
   "attachments": {},
   "cell_type": "markdown",
   "metadata": {},
   "source": [
    "Q5. Explain Primary Key and Foreign Key."
   ]
  },
  {
   "cell_type": "code",
   "execution_count": 3,
   "metadata": {},
   "outputs": [],
   "source": [
    "#Explain Primary Key and Foreign Key.\n",
    "\"\"\"\n",
    "Primary Key: A primary key is a field in a table which uniquely identifies each row/record in a database table.\n",
    "Primary keys must contain unique values. A primary key column cannot have NULL values.\n",
    "A table can have only one primary key, which may consist of single or multiple fields.\n",
    "Foreign Key: A foreign key is a column or group of columns in a relational database table that provides a link between data in two tables.\n",
    "It acts as a cross-reference between tables because it references the primary key of another table, thereby establishing a link between them.\n",
    "Foreign keys prevent actions that would leave rows with foreign key values when there are no primary keys with that value.\n",
    "The foreign key constraints are used to maintain referential integrity in the database.\n",
    "\"\"\""
   ]
  },
  {
   "attachments": {},
   "cell_type": "markdown",
   "metadata": {},
   "source": [
    "Q6. Write a python code to connect MySQL to python. Explain the cursor() and execute() method."
   ]
  },
  {
   "cell_type": "code",
   "execution_count": null,
   "metadata": {},
   "outputs": [],
   "source": [
    "#Q6. Write a python code to connect MySQL to python. Explain the cursor() and execute() method.\n",
    "import mysql.connector\n",
    "mydb = mysql.connector.connect(\n",
    "    host=\"localhost\",\n",
    "    user=\"root\", password=\"<PASSWORD>\",database='test')\n",
    "mycursor = mydb.cursor()\n",
    "mycursor.execute(\"SELECT * FROM customers\")\n",
    "myresult = mycursor.fetchall()\n",
    "for x in myresult:\n",
    "    print(x)\n",
    "\"\"\" cursor() method: This method creates a cursor object which is used to execute SQL queries.\n",
    "execute() method: This method is used to execute the SQL query. \"\"\""
   ]
  },
  {
   "attachments": {},
   "cell_type": "markdown",
   "metadata": {},
   "source": [
    "Q7. Give the order of execution of SQL clauses in an SQL query."
   ]
  },
  {
   "cell_type": "code",
   "execution_count": null,
   "metadata": {},
   "outputs": [],
   "source": [
    "\"\"\"\n",
    "The order of execution of SQL clauses in an SQL query is as follows:\n",
    "SELECT\n",
    "FROM\n",
    "WHERE\n",
    "GROUP BY\n",
    "HAVING\n",
    "\"\"\""
   ]
  }
 ],
 "metadata": {
  "kernelspec": {
   "display_name": "Python 3",
   "language": "python",
   "name": "python3"
  },
  "language_info": {
   "codemirror_mode": {
    "name": "ipython",
    "version": 3
   },
   "file_extension": ".py",
   "mimetype": "text/x-python",
   "name": "python",
   "nbconvert_exporter": "python",
   "pygments_lexer": "ipython3",
   "version": "3.9.0"
  },
  "orig_nbformat": 4
 },
 "nbformat": 4,
 "nbformat_minor": 2
}
