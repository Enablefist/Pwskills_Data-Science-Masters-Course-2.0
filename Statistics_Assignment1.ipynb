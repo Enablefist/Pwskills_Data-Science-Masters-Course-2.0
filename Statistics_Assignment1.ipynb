{
 "cells": [
  {
   "cell_type": "markdown",
   "metadata": {},
   "source": [
    "Q1. What is Statistics?"
   ]
  },
  {
   "cell_type": "code",
   "execution_count": null,
   "metadata": {},
   "outputs": [],
   "source": [
    "#What is Statistics?\n",
    "\"\"\" Statistics is a branch of mathematics that deals with the collection, analysis and interpretation of data. \n",
    "It helps us to understand how things work in our daily \"\"\""
   ]
  },
  {
   "cell_type": "markdown",
   "metadata": {},
   "source": [
    "****Q2. Define the different types of statistics and give an example of when each type might be used.****"
   ]
  },
  {
   "cell_type": "markdown",
   "metadata": {},
   "source": [
    "There are many different types of statistics, each with its own purpose and application.\n",
    "\n",
    "**Descriptive statistics** are used to summarize and describe data, without making any inferences about the population from which the data was collected. Descriptive statistics can be used to:\n",
    "\n",
    "Count the number of observations in a dataset.\n",
    "Calculate the mean, median, and mode of a dataset.\n",
    "Create a histogram or other graphical representation of a dataset.\n",
    "**Example:** A company might use descriptive statistics to summarize the sales data for a particular product.\n",
    "\n",
    "**Inferential statistics** are used to make inferences about a population based on a sample of data. Inferential statistics can be used to:\n",
    "\n",
    "Estimate the mean or other population parameter.\n",
    "Test whether there is a significant difference between two or more groups.\n",
    "Predict the future value of a variable.\n",
    "**Example:** A pharmaceutical company might use inferential statistics to test whether a new drug is effective in treating a particular disease.\n",
    "\n",
    "**Predictive statistics** are used to make predictions about future events. Predictive statistics can be used to:\n",
    "\n",
    "Forecast sales or demand for a product.\n",
    "Predict the likelihood of a customer churning.\n",
    "Estimate the risk of a loan default.\n",
    "**Example:** A bank might use predictive statistics to estimate the risk of a customer defaulting on a loan.\n",
    "\n",
    "**Machine learning** is a type of artificial intelligence that allows computers to learn without being explicitly programmed. Machine learning can be used to:\n",
    "\n",
    "Classify data into different categories.\n",
    "Predict the future value of a variable.\n",
    "Detect fraud or other anomalies.\n",
    "**Example:** A company might use machine learning to classify customer support tickets into different categories."
   ]
  },
  {
   "cell_type": "markdown",
   "metadata": {},
   "source": [
    "***Q3. What are the different types of data and how do they differ from each other? Provide an example of\n",
    "each type of data.***"
   ]
  },
  {
   "cell_type": "markdown",
   "metadata": {},
   "source": [
    "There are many different types of data, each with its own unique characteristics. Some of the most common types of data include:\n",
    "\n",
    "* **Numerical data:** This type of data consists of numbers that can be measured and quantified. Examples of numerical data include height, weight, age, and income.\n",
    "* **Categorical data:** This type of data consists of categories or groups that cannot be measured numerically. Examples of categorical data include gender, race, and ethnicity.\n",
    "* **Ordinal data:** This type of data consists of categories that can be ordered or ranked. Examples of ordinal data include grades in school, levels of customer satisfaction, and military ranks.\n",
    "* **Nominal data:** This type of data consists of categories that cannot be ordered or ranked. Examples of nominal data include names, colors, and countries.\n",
    "* **Time series data:** This type of data consists of observations that are collected over time. Examples of time series data include stock prices, weather data, and population statistics.\n",
    "\n",
    "These are just a few of the many different types of data that exist. Each type of data has its own unique characteristics and uses. By understanding the different types of data, you can better understand how to collect, analyze, and use data to make informed decisions."
   ]
  },
  {
   "cell_type": "markdown",
   "metadata": {},
   "source": [
    "Q4. Categorise the following datasets with respect to quantitative and qualitative data types:\n",
    "(i) Grading in exam: A+, A, B+, B, C+, C, D, E\n",
    "(ii) Colour of mangoes: yellow, green, orange, red\n",
    "(iii) Height data of a class: [178.9, 179, 179.5, 176, 177.2, 178.3, 175.8,...]\n",
    "(iv) Number of mangoes exported by a farm: [500, 600, 478, 672, ...]"
   ]
  },
  {
   "cell_type": "markdown",
   "metadata": {},
   "source": [
    "(i) Grading in exam: A+, A, B+, B, C+, C, D, E - Qualitative\n",
    "\n",
    "(ii) Colour of mangoes: yellow, green, orange, red - Qualitative\n",
    "\n",
    "(iii) Height data of a class: [178.9, 179, 179.5, 176, 177.2, 178.3, 175.8,...] - Quantitative\n",
    "\n",
    "(iv) Number of mangoes exported by a farm: [500, 600, 478, 672, ...] - Quantitative\n"
   ]
  },
  {
   "cell_type": "markdown",
   "metadata": {},
   "source": [
    "Q5. Explain the concept of levels of measurement and give an example of a variable for each level."
   ]
  },
  {
   "cell_type": "markdown",
   "metadata": {},
   "source": [
    "Levels of measurement are a way of classifying variables based on the type of data they represent. There are four main levels of measurement: nominal, ordinal, interval, and ratio.\n",
    "\n",
    "**Nominal:** Nominal data is the most basic level of measurement. It simply categorizes data into different groups, without any inherent order. For example, gender is a nominal variable, as it simply categorizes people into male and female.\n",
    "\n",
    "**Ordinal:** Ordinal data is similar to nominal data, but it has an inherent order. For example, a student's grade in a class is an ordinal variable, as it can be ordered from highest to lowest.\n",
    "\n",
    "**Interval:** Interval data is similar to ordinal data, but it has the added property of equal intervals between each category. For example, temperature is an interval variable, as the difference between 10 degrees Celsius and 20 degrees Celsius is the same as the difference between 20 degrees Celsius and 30 degrees Celsius.\n",
    "\n",
    "**Ratio:** Ratio data is the highest level of measurement. It has all the properties of interval data, but it also has an absolute zero point. For example, height is a ratio variable, as it has an absolute zero point of zero centimeters.\n",
    "\n",
    "Here is an example of a variable for each level of measurement:\n",
    "\n",
    "**Nominal:** Gender\n",
    "\n",
    "**Ordinal:** Grade in class\n",
    "\n",
    "**Interval:** Temperature\n",
    "\n",
    "**Ratio:** Height"
   ]
  },
  {
   "cell_type": "markdown",
   "metadata": {},
   "source": [
    "***Q6.Why is it important to understand the level of measurement when analyzing data? Provide an\n",
    "example to illustrate your answer.***"
   ]
  },
  {
   "cell_type": "markdown",
   "metadata": {},
   "source": [
    "Understanding the level of measurement is crucial when analyzing data because it determines the types of statistical and mathematical operations that can be applied to the data, the appropriate visualizations to use, and the meaningfulness of various calculations. There are four levels of measurement: nominal, ordinal, interval, and ratio. Let's delve into why it's important to grasp this concept with an example:\n",
    "\n",
    "Example:\n",
    "Suppose you are conducting a survey to collect data about the transportation preferences of people in a city. You ask respondents the following question:\n",
    "\n",
    "\"Which mode of transportation do you primarily use for your daily commute?\"\n",
    "\n",
    "1. Car\n",
    "2. Bicycle\n",
    "3. Bus\n",
    "4. Walking\n",
    "\n",
    "Now, let's analyze why understanding the level of measurement is important in this context:\n",
    "\n",
    "1. **Nominal Level**: The data in this example are at the nominal level because the categories (Car, Bicycle, Bus, Walking) represent different groups or labels. Nominal data only allow for basic operations like counting and frequency distribution. You can count how many people chose each mode of transportation, but you cannot say that one mode is \"greater\" or \"better\" than another based solely on this data.\n",
    "\n",
    "2. **Ordinal Level**: If you had collected the same data but asked respondents to rank their transportation preferences from 1 to 4 (with 1 being their most preferred and 4 being their least preferred), you would have ordinal data. This level allows for ranking but doesn't imply equal intervals between the ranks. You could determine which mode is most preferred, but you couldn't say that the difference in preference between, for example, Car (ranked 1) and Bicycle (ranked 2) is the same as between Bicycle (ranked 2) and Bus (ranked 3).\n",
    "\n",
    "3. **Interval Level**: Interval data have equal intervals between values, but they lack a true zero point. If you had collected data on temperature in Celsius or Fahrenheit, it would be at the interval level. You can perform operations like addition and subtraction, but you can't say that 20°C is twice as hot as 10°C because there's no true \"zero\" temperature.\n",
    "\n",
    "4. **Ratio Level**: Ratio data have all the properties of interval data, but they also have a true zero point. For example, if you collected data on people's incomes, you'd have ratio data. In this case, you can say that someone with an income of $60,000 earns twice as much as someone with an income of $30,000 because there is a meaningful zero income (i.e., no income).\n",
    "\n",
    "In this example, understanding the level of measurement helps you determine the appropriate statistical analyses and visualizations. If you mistakenly treated the data as ratio when it's actually nominal, you might erroneously calculate means and variances or create a misleading bar chart that implies a meaningful order among the modes of transportation. Therefore, knowing the level of measurement is essential for accurate data analysis and interpretation."
   ]
  },
  {
   "cell_type": "markdown",
   "metadata": {},
   "source": [
    "Nominal data and ordinal data are both categorical data types, but they differ in terms of the nature of the categories and the level of information they convey:\n",
    "\n",
    "1. **Nominal Data**:\n",
    "\n",
    "   - Nominal data consists of categories or labels that represent different groups or classes. These categories have no inherent order or ranking.\n",
    "   - In nominal data, the categories are mutually exclusive, meaning that each data point can belong to only one category.\n",
    "   - Examples of nominal data include:\n",
    "     - Colors (e.g., red, blue, green)\n",
    "     - Types of fruits (e.g., apple, banana, orange)\n",
    "     - Gender categories (e.g., male, female, non-binary)\n",
    "\n",
    "   Nominal data is primarily used for classification or grouping purposes. You can count the frequency of each category and perform basic operations like calculating mode (the most frequently occurring category), but you cannot establish any meaningful order or ranking among the categories using nominal data alone.\n",
    "\n",
    "2. **Ordinal Data**:\n",
    "\n",
    "   - Ordinal data also consists of categories, but these categories have a natural order or ranking to them. The order represents a relative hierarchy or preference among the categories.\n",
    "   - The intervals between the categories in ordinal data are not necessarily equal. That is, the difference in \"magnitude\" or \"degree\" between adjacent categories may not be uniform or well-defined.\n",
    "   - Examples of ordinal data include:\n",
    "     - Educational levels (e.g., high school diploma, bachelor's degree, master's degree)\n",
    "     - Customer satisfaction ratings (e.g., very dissatisfied, dissatisfied, neutral, satisfied, very satisfied)\n",
    "     - Socioeconomic status categories (e.g., lower class, middle class, upper class)\n",
    "\n",
    "   Ordinal data allows you to determine the order or ranking of categories based on their inherent hierarchy. You can say that one category is ranked higher or lower than another, but you cannot accurately quantify the magnitude of the differences between the categories.\n",
    "\n",
    "In summary, the key difference between nominal and ordinal data lies in the presence of an order or hierarchy among categories. Nominal data has no such order, while ordinal data does. When working with nominal data, you can only perform basic categorical analyses, whereas with ordinal data, you can analyze and interpret the data based on the established order or ranking of categories."
   ]
  },
  {
   "cell_type": "markdown",
   "metadata": {},
   "source": [
    "*****Which type of plot can be used to display data in terms of range*****"
   ]
  },
  {
   "cell_type": "markdown",
   "metadata": {},
   "source": [
    "A box plot is a type of plot that can be used to display data in terms of range. Box plots show the median, upper and lower quartiles, and the range of the data. They are often used to compare the distributions of different datasets.\n",
    "\n",
    "Here is an example of a box plot:\n",
    "\n",
    "[Image of a box plot]\n",
    "\n",
    "The box plot shows the distribution of the data for three different groups. The median is represented by the line in the middle of the box. The upper and lower quartiles are represented by the edges of the box. The range is represented by the whiskers.\n",
    "\n",
    "Box plots can be used to compare the distributions of different datasets. For example, the box plot above shows that the distribution of data for Group 1 is more spread out than the distribution of data for Group 2. The median for Group 1 is also higher than the median for Group 2"
   ]
  },
  {
   "cell_type": "markdown",
   "metadata": {},
   "source": [
    "*****Q9. Describe the difference between descriptive and inferential statistics. Give an example of each\n",
    "type of statistics and explain how they are used.*****"
   ]
  },
  {
   "cell_type": "markdown",
   "metadata": {},
   "source": [
    "**Descriptive statistics** are used to summarize and describe data, without making any inferences about the population from which the data was collected. Descriptive statistics can be used to:\n",
    "\n",
    "Count the number of observations in a dataset.\n",
    "Calculate the mean, median, and mode of a dataset.\n",
    "Create a histogram or other graphical representation of a dataset.\n",
    "**Example:** A company might use descriptive statistics to summarize the sales data for a particular product.\n",
    "\n",
    "**Inferential statistics** are used to make inferences about a population based on a sample of data. Inferential statistics can be used to:\n",
    "\n",
    "Estimate the mean or other population parameter.\n",
    "Test whether there is a significant difference between two or more groups.\n",
    "Predict the future value of a variable.\n",
    "**Example:** A pharmaceutical company might use inferential statistics to test whether a new drug is effective in treating a particular disease."
   ]
  },
  {
   "cell_type": "markdown",
   "metadata": {},
   "source": [
    "*****Q10. What are some common measures of central tendency and variability used in statistics? Explain\n",
    "how each measure can be used to describe a dataset.*****"
   ]
  },
  {
   "cell_type": "markdown",
   "metadata": {},
   "source": [
    "Measures of central tendency are statistics that describe the \"middle\" of a dataset. The three most common measures of central tendency are the mean, median, and mode.\n",
    "\n",
    "The mean is the average of all the values in a dataset. It is calculated by adding up all the values and dividing by the number of values. The mean is a good measure of central tendency when the data is normally distributed.\n",
    "\n",
    "The median is the middle value in a dataset when the values are arranged in order from smallest to largest. The median is a good measure of central tendency when the data is skewed, or when there are outliers.\n",
    "\n",
    "The mode is the value that occurs most frequently in a dataset. The mode is a good measure of central tendency when the data is multimodal, or when there are multiple values that occur with the same frequency.\n",
    "\n",
    "Measures of variability are statistics that describe how spread out the values in a dataset are. The three most common measures of variability are the range, the variance, and the standard deviation.\n",
    "\n",
    "The range is the difference between the largest and smallest values in a dataset. The range is a good measure of variability when the data is skewed, or when there are outliers.\n",
    "\n",
    "The variance is the average of the squared differences between each value in a dataset and the mean. The variance is a good measure of variability when the data is normally distributed.\n",
    "\n",
    "The standard deviation is the square root of the variance. The standard deviation is a good measure of variability when the data is normally distributed.\n",
    "\n"
   ]
  }
 ],
 "metadata": {
  "kernelspec": {
   "display_name": "Python 3",
   "language": "python",
   "name": "python3"
  },
  "language_info": {
   "name": "python",
   "version": "3.9.0"
  },
  "orig_nbformat": 4
 },
 "nbformat": 4,
 "nbformat_minor": 2
}
