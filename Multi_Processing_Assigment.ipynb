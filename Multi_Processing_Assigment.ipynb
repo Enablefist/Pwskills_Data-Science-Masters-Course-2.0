{
 "cells": [
  {
   "attachments": {},
   "cell_type": "markdown",
   "metadata": {},
   "source": [
    "Q1.What is multiprocessing in python? Why is it useful?"
   ]
  },
  {
   "cell_type": "code",
   "execution_count": 2,
   "metadata": {},
   "outputs": [],
   "source": [
    "\"\"\" The multiprocessing module allows you to create and manage processes, similar to how the\n",
    " threading module handles threads. \n",
    "However, unlike threads, which are limited by the Global Interpreter Lock (GIL) in CPython, processes in \n",
    "the multiprocessing module have their own memory space and can run in parallel, utilizing multiple CPU cores. \"\"\"\n",
    "#Example\n",
    "import multiprocessing\n",
    "\n",
    "def calculate_square(number):\n",
    "    square = number ** 2\n",
    "    print(f\"Square of {number} is {square}\")\n",
    "\n",
    "if __name__ == \"__main__\":\n",
    "    numbers = [1, 2, 3, 4, 5]\n",
    "\n",
    "    # Create a multiprocessing Pool with the number of processes\n",
    "    # equal to the number of CPU cores available\n",
    "    pool = multiprocessing.Pool()\n",
    "\n",
    "    # Use the Pool.map() method to apply the calculate_square function\n",
    "    # to each number in parallel\n",
    "    pool.map(calculate_square, numbers)\n",
    "\n",
    "    # Close the pool to prevent any more tasks from being submitted\n",
    "    pool.close()\n",
    "\n",
    "    # Wait for all processes to finish\n",
    "    pool.join()\n"
   ]
  },
  {
   "attachments": {},
   "cell_type": "markdown",
   "metadata": {},
   "source": [
    "Q2. What are the differences between multiprocessing and multithreading?"
   ]
  },
  {
   "cell_type": "code",
   "execution_count": null,
   "metadata": {},
   "outputs": [],
   "source": [
    "#Q2. What are the differences between multiprocessing and multithreading?\n",
    "\"\"\"The difference between multiprocessing and multithreading is that multiprocessing allows us to run multiple\n",
    " processes whereas multithreading allows us to run multiple threads within a process\n",
    "Multiprocessing: In multiprocessing, multiple independent processes run simultaneously. \n",
    "Each process has its own memory space and resources.\n",
    "Multithreading: In multithreading, multiple threads run within a single process.\n",
    "Threads share the same memory space and resources.\n",
    "Multiprocessing: Multiprocessing can utilize multiple CPU cores or processors by running processes in parallel.\n",
    "Multithreading: Due to the Global Interpreter Lock (GIL) in Python, multithreading is limited to utilizing a single CPU core at a time.\n",
    "\"\"\"\n"
   ]
  },
  {
   "attachments": {},
   "cell_type": "markdown",
   "metadata": {},
   "source": [
    "Q3.Write a python code to create a process using the multiprocessing module."
   ]
  },
  {
   "cell_type": "code",
   "execution_count": 3,
   "metadata": {},
   "outputs": [
    {
     "name": "stdout",
     "output_type": "stream",
     "text": [
      "Done\n"
     ]
    }
   ],
   "source": [
    "#Write a python code to create a process using the multiprocessing module.\n",
    "# Path: Assignments\\Multi_Processing_Assigment.ipynb\n",
    "import multiprocessing\n",
    "import time\n",
    "def myfunc(name):\n",
    "    print(f\"Hello {name}\")\n",
    "    time.sleep(2)\n",
    "    print(f\"Goodbye {name}\")\n",
    "if __name__ == \"__main__\":\n",
    "    p = multiprocessing.Process(target=myfunc, args=(\"Sachin\",))\n",
    "    p.start()\n",
    "    p.join()\n",
    "    print(\"Done\")\n",
    "    "
   ]
  },
  {
   "cell_type": "code",
   "execution_count": 4,
   "metadata": {},
   "outputs": [
    {
     "name": "stdout",
     "output_type": "stream",
     "text": [
      "Main process completed\n"
     ]
    }
   ],
   "source": [
    "import multiprocessing\n",
    "\n",
    "def my_function():\n",
    "    print(\"This is a child process\")\n",
    "\n",
    "if __name__ == \"__main__\":\n",
    "    # Create a new process\n",
    "    process = multiprocessing.Process(target=my_function)\n",
    "\n",
    "    # Start the process\n",
    "    process.start()\n",
    "\n",
    "    # Wait for the process to finish\n",
    "    process.join()\n",
    "\n",
    "    # Print a message after the process has finished\n",
    "    print(\"Main process completed\")\n"
   ]
  },
  {
   "attachments": {},
   "cell_type": "markdown",
   "metadata": {},
   "source": [
    "Q4.What is a multiprocessing pool in python? Why is it used?"
   ]
  },
  {
   "cell_type": "code",
   "execution_count": 6,
   "metadata": {},
   "outputs": [],
   "source": [
    "#What is a multiprocessing pool in python? Why is it used?\n",
    "\"\"\" A multiprocessing pool allows you to create a pool of worker processes, which can be used to parallelize the execution of a function across a large dataset or perform multiple tasks simultaneously. \n",
    "The pool manages the allocation of tasks to the available processes, handles communication, and collects the results.\n",
    "It provides methods like map(), imap(), or apply_async() that allow you to apply a function to a dataset or task list and collect the results in an ordered manner.\"\"\""
   ]
  },
  {
   "attachments": {},
   "cell_type": "markdown",
   "metadata": {},
   "source": [
    "Q5. How can we create a pool of worker processes in python using the multiprocessing module?"
   ]
  },
  {
   "cell_type": "code",
   "execution_count": null,
   "metadata": {},
   "outputs": [],
   "source": [
    "import multiprocessing\n",
    "\n",
    "def square(number):\n",
    "    return number ** 2\n",
    "\n",
    "if __name__ == \"__main__\":\n",
    "    # Create a multiprocessing Pool with the number of processes\n",
    "    # equal to the number of CPU cores available\n",
    "    pool = multiprocessing.Pool()\n",
    "\n",
    "    # Define a list of numbers\n",
    "    numbers = [1, 2, 3, 4, 5]\n",
    "\n",
    "    # Use the Pool.map() method to apply the square function to each number\n",
    "    results = pool.map(square, numbers)\n",
    "\n",
    "    # Close the pool to prevent any more tasks from being submitted\n",
    "    pool.close()\n",
    "\n",
    "    # Wait for all processes to finish\n",
    "    pool.join()\n",
    "\n",
    "    # Print the results\n",
    "    print(\"Squared numbers:\", results)"
   ]
  },
  {
   "attachments": {},
   "cell_type": "markdown",
   "metadata": {},
   "source": [
    "Q.6 Write a python program to create 4 processes, each process should print a different number using the\n",
    "multiprocessing module in python."
   ]
  },
  {
   "cell_type": "code",
   "execution_count": null,
   "metadata": {},
   "outputs": [],
   "source": [
    "import multiprocessing\n",
    "\n",
    "def print_number(number):\n",
    "    print(\"Number:\", number)\n",
    "\n",
    "if __name__ == \"__main__\":\n",
    "    # Create a list of numbers\n",
    "    numbers = [1, 2, 3, 4]\n",
    "\n",
    "    # Create a list to store the process objects\n",
    "    processes = []\n",
    "\n",
    "    # Create and start a process for each number\n",
    "    for number in numbers:\n",
    "        process = multiprocessing.Process(target=print_number, args=(number,))\n",
    "        processes.append(process)\n",
    "        process.start()\n",
    "\n",
    "    # Wait for all processes to finish\n",
    "    for process in processes:\n",
    "        process.join()\n",
    "\n",
    "    print(\"All processes completed\")"
   ]
  }
 ],
 "metadata": {
  "kernelspec": {
   "display_name": "Python 3",
   "language": "python",
   "name": "python3"
  },
  "language_info": {
   "codemirror_mode": {
    "name": "ipython",
    "version": 3
   },
   "file_extension": ".py",
   "mimetype": "text/x-python",
   "name": "python",
   "nbconvert_exporter": "python",
   "pygments_lexer": "ipython3",
   "version": "3.9.0"
  },
  "orig_nbformat": 4
 },
 "nbformat": 4,
 "nbformat_minor": 2
}
