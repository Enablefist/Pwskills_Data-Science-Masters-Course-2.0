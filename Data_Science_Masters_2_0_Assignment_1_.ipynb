{
  "nbformat": 4,
  "nbformat_minor": 0,
  "metadata": {
    "colab": {
      "provenance": []
    },
    "kernelspec": {
      "name": "python3",
      "display_name": "Python 3"
    },
    "language_info": {
      "name": "python"
    }
  },
  "cells": [
    {
      "cell_type": "markdown",
      "source": [
        " Q1. Create one variable containing following type of data:\n",
        "(i) string\n",
        "(ii) list\n",
        "(iii) float\n",
        "(iv) tuple '''"
      ],
      "metadata": {
        "id": "SMcqa9q5RjUa"
      }
    },
    {
      "cell_type": "code",
      "source": [
        "name=\"Sai Dinesh\"\n",
        "numbers=[1,2,3,4,5,6,7,8]\n",
        "float_val=2.14\n",
        "tuple_val=(1,2,3,4)"
      ],
      "metadata": {
        "id": "Ukl1_OGYP5x3"
      },
      "execution_count": null,
      "outputs": []
    },
    {
      "cell_type": "markdown",
      "source": [
        "Q2. Given are some following variables containing data:\n",
        "(i) var1 = ‘ ‘\n",
        "(ii) var2 = ‘[ DS , ML , Python]’\n",
        "(iii) var3 = [ ‘DS’ , ’ML’ , ‘Python’ ]\n",
        "(iv) var4 = 1.\n",
        "What will be the data type of the above given variable."
      ],
      "metadata": {
        "id": "J_AHU1wlRwm0"
      }
    },
    {
      "cell_type": "code",
      "source": [
        " var1=''\n",
        " var2 = '[ DS , ML , Python]'\n",
        " var3 = [ 'DS' , 'ML' , 'Python']\n",
        " var4 = 1"
      ],
      "metadata": {
        "id": "-ivf1AQMSJ4J"
      },
      "execution_count": null,
      "outputs": []
    },
    {
      "cell_type": "code",
      "source": [
        "print(type(var1))\n",
        "print(type(var2))\n",
        "print(type(var3))\n",
        "print(type(var4))"
      ],
      "metadata": {
        "colab": {
          "base_uri": "https://localhost:8080/"
        },
        "id": "FzbXFEpRRvD1",
        "outputId": "6bcb2af2-1f90-4d7a-ec7a-12e7c249ac77"
      },
      "execution_count": null,
      "outputs": [
        {
          "output_type": "stream",
          "name": "stdout",
          "text": [
            "<class 'str'>\n",
            "<class 'str'>\n",
            "<class 'list'>\n",
            "<class 'int'>\n"
          ]
        }
      ]
    },
    {
      "cell_type": "markdown",
      "source": [
        "Q3. Explain the use of the following operators using an example:\n",
        "(i) /\n",
        "(ii) %\n",
        "(iii) //\n",
        "(iv) **"
      ],
      "metadata": {
        "id": "mcDpg_gnS1Vq"
      }
    },
    {
      "cell_type": "code",
      "source": [
        "#The above mention  operators are Arithmetic Operators \n",
        "# (i) / used for Division used to divide two numbers Example\n",
        "a=8\n",
        "b=2\n",
        "print(\"Division of a and b is:\",a/b)\n",
        "\n",
        "# (ii) % operator It's used to get the remainder of a division problem\n",
        "x = 5\n",
        "y = 2\n",
        "print(\"The modulus of x and y is:\",x % y)\n",
        "\n",
        "#(iii) the floor division // rounds the result down to the nearest whole number\n",
        "x1 = 15\n",
        "y1 = 2\n",
        "print(\"the floor division is:\", x1 // y1)\n",
        "\n",
        "#(iv) ** Exponent operator used to get power of a number same as 2*2*2*2*2\n",
        "x = 2 \n",
        "y = 5\n",
        "print(\"Exponent of x,y:\",x ** y) "
      ],
      "metadata": {
        "colab": {
          "base_uri": "https://localhost:8080/"
        },
        "id": "rsgk7E_YSIXQ",
        "outputId": "ea996a0e-e3b8-4545-f6f6-310bf53d7f1c"
      },
      "execution_count": null,
      "outputs": [
        {
          "output_type": "stream",
          "name": "stdout",
          "text": [
            "Division of a and b is: 4.0\n",
            "The modulus of x and y is: 1\n",
            "the floor division is: 7\n",
            "Exponent of x,y: 32\n"
          ]
        }
      ]
    },
    {
      "cell_type": "markdown",
      "source": [
        "Q4. Create a list of length 10 of your choice containing multiple types of data. Using for loop print the\n",
        "element and its data type."
      ],
      "metadata": {
        "id": "uku2u262VvuA"
      }
    },
    {
      "cell_type": "code",
      "source": [
        "list_data=[1,\"name\",2.14,True,(1,2,3,4),{'a','b','c'},2+3j]\n",
        "for data in list_data:\n",
        "  print(type(data))"
      ],
      "metadata": {
        "colab": {
          "base_uri": "https://localhost:8080/"
        },
        "id": "7hDqy4uWUYxM",
        "outputId": "97e4662d-7f8a-4b14-dbd0-79b7e3ab7041"
      },
      "execution_count": null,
      "outputs": [
        {
          "output_type": "stream",
          "name": "stdout",
          "text": [
            "<class 'int'>\n",
            "<class 'str'>\n",
            "<class 'float'>\n",
            "<class 'bool'>\n",
            "<class 'tuple'>\n",
            "<class 'set'>\n",
            "<class 'complex'>\n"
          ]
        }
      ]
    },
    {
      "cell_type": "markdown",
      "source": [
        "Q5. Using a while loop, verify if the number A is purely divisible by number B and if so then how many\n",
        "times it can be divisible."
      ],
      "metadata": {
        "id": "ZqHU5g4AXtFc"
      }
    },
    {
      "cell_type": "code",
      "source": [
        "A=100\n",
        "B=5\n",
        "count=0\n",
        "while A%B==0:\n",
        "    count+=1\n",
        "    A=A//B\n",
        "print(count)"
      ],
      "metadata": {
        "id": "STtEmfdvWNDn",
        "colab": {
          "base_uri": "https://localhost:8080/"
        },
        "outputId": "28028d71-6cd1-45c6-c542-cfc0d0efc252"
      },
      "execution_count": 16,
      "outputs": [
        {
          "output_type": "stream",
          "name": "stdout",
          "text": [
            "2\n"
          ]
        }
      ]
    },
    {
      "cell_type": "markdown",
      "source": [
        "Q6. Create a list containing 25 int type data. Using for loop and if-else condition print if the element is\n",
        "divisible by 3 or not."
      ],
      "metadata": {
        "id": "Qac_n1JPkZ3b"
      }
    },
    {
      "cell_type": "code",
      "source": [
        "int_list=[1,2,3,4,5,6,7,8,9,10,11,12,13,14,15,16,17,18,19,20,21,22,23,24,25]\n",
        "for i in int_list:\n",
        "  if i%3==0:\n",
        "    print(i,\"is divisble by 3\")\n",
        "  else:\n",
        "    print(i,\"is not divisble by 3\")"
      ],
      "metadata": {
        "colab": {
          "base_uri": "https://localhost:8080/"
        },
        "id": "bUK7L1DajBQa",
        "outputId": "921a4e62-a16b-4def-df92-f49dccd3e8f1"
      },
      "execution_count": null,
      "outputs": [
        {
          "output_type": "stream",
          "name": "stdout",
          "text": [
            "1 is not divisble by 3\n",
            "2 is not divisble by 3\n",
            "3 is divisble by 3\n",
            "4 is not divisble by 3\n",
            "5 is not divisble by 3\n",
            "6 is divisble by 3\n",
            "7 is not divisble by 3\n",
            "8 is not divisble by 3\n",
            "9 is divisble by 3\n",
            "10 is not divisble by 3\n",
            "11 is not divisble by 3\n",
            "12 is divisble by 3\n",
            "13 is not divisble by 3\n",
            "14 is not divisble by 3\n",
            "15 is divisble by 3\n",
            "16 is not divisble by 3\n",
            "17 is not divisble by 3\n",
            "18 is divisble by 3\n",
            "19 is not divisble by 3\n",
            "20 is not divisble by 3\n",
            "21 is divisble by 3\n",
            "22 is not divisble by 3\n",
            "23 is not divisble by 3\n",
            "24 is divisble by 3\n",
            "25 is not divisble by 3\n"
          ]
        }
      ]
    },
    {
      "cell_type": "markdown",
      "source": [
        "Q7. What do you understand about mutable and immutable data types? Give examples for both showing\n",
        "this property."
      ],
      "metadata": {
        "id": "Y8N0r76IlDvm"
      }
    },
    {
      "cell_type": "code",
      "source": [
        "''' An object that allows you to change its values without changing its identity is a mutable object. The changes that you can perform on a mutable object’s value are known as mutations.\n",
        "\n",
        "In contrast, an object that doesn’t allow changes in its value is an immutable object. '''\n",
        "#Example of Mutable Data Type\n",
        "digits = [0, 1, 2, 3, 4, 5, 6, 7, 8, 9]\n",
        "digits[0]=1\n",
        "print(digits)\n",
        "#Example for Immutable DataType \n",
        "\"String is a immutable data type\"\n",
        "name=\"PWSkills\"\n",
        "name['W']='wallah' #Here we can't assign new val because string is immutable \n",
        "print(name)"
      ],
      "metadata": {
        "id": "rAe2d9C-k5AQ",
        "colab": {
          "base_uri": "https://localhost:8080/",
          "height": 236
        },
        "outputId": "621b09cf-d96e-4292-a4d8-aabba6024882"
      },
      "execution_count": 3,
      "outputs": [
        {
          "output_type": "stream",
          "name": "stdout",
          "text": [
            "[1, 1, 2, 3, 4, 5, 6, 7, 8, 9]\n"
          ]
        },
        {
          "output_type": "error",
          "ename": "TypeError",
          "evalue": "ignored",
          "traceback": [
            "\u001b[0;31m---------------------------------------------------------------------------\u001b[0m",
            "\u001b[0;31mTypeError\u001b[0m                                 Traceback (most recent call last)",
            "\u001b[0;32m<ipython-input-3-1499c54f8be1>\u001b[0m in \u001b[0;36m<cell line: 11>\u001b[0;34m()\u001b[0m\n\u001b[1;32m      9\u001b[0m \u001b[0;34m\"String is a immutable data type\"\u001b[0m\u001b[0;34m\u001b[0m\u001b[0;34m\u001b[0m\u001b[0m\n\u001b[1;32m     10\u001b[0m \u001b[0mname\u001b[0m\u001b[0;34m=\u001b[0m\u001b[0;34m\"PWSkills\"\u001b[0m\u001b[0;34m\u001b[0m\u001b[0;34m\u001b[0m\u001b[0m\n\u001b[0;32m---> 11\u001b[0;31m \u001b[0mname\u001b[0m\u001b[0;34m[\u001b[0m\u001b[0;34m'W'\u001b[0m\u001b[0;34m]\u001b[0m\u001b[0;34m=\u001b[0m\u001b[0;34m'wallah'\u001b[0m\u001b[0;34m\u001b[0m\u001b[0;34m\u001b[0m\u001b[0m\n\u001b[0m\u001b[1;32m     12\u001b[0m \u001b[0mprint\u001b[0m\u001b[0;34m(\u001b[0m\u001b[0mname\u001b[0m\u001b[0;34m)\u001b[0m\u001b[0;34m\u001b[0m\u001b[0;34m\u001b[0m\u001b[0m\n",
            "\u001b[0;31mTypeError\u001b[0m: 'str' object does not support item assignment"
          ]
        }
      ]
    }
  ]
}