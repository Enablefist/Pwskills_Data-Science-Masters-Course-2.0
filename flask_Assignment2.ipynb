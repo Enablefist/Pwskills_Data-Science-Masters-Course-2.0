{
 "cells": [
  {
   "attachments": {},
   "cell_type": "markdown",
   "metadata": {},
   "source": [
    "Q1. Explain GET and POST methods."
   ]
  },
  {
   "cell_type": "code",
   "execution_count": null,
   "metadata": {},
   "outputs": [],
   "source": [
    "\"\"\" Q1. Explain GET and POST methods.\n",
    "Ans: GET and POST are two different types of HTTP requests. GET requests data from a specified resource, and POST submits data to be processed to a specified resource.\n",
    "The GET Method\n",
    "GET is used to request data from a specified resource.\n",
    "GET is one of the most common HTTP methods.\n",
    "Note that the query string (name/value pairs) is sent in the URL of a GET request:\n",
    "test.asp?name1=value1&name2=value2\n",
    "Some other notes on GET requests:\n",
    "GET requests can be cached\n",
    "GET requests remain in the browser history\n",
    "GET requests can be bookmarked\n",
    "GET requests should never be used when dealing with sensitive data\n",
    "GET requests have length restrictions\n",
    "GET requests are only used to request data (not modify)\n",
    "The POST Method\n",
    "POST is used to send data to a server to create/update a resource.\n",
    "The data sent to the server with POST is stored in the request body of the HTTP request:\n",
    "POST /test/demo_form.asp HTTP/1. \"\"\""
   ]
  },
  {
   "attachments": {},
   "cell_type": "markdown",
   "metadata": {},
   "source": [
    "Q2. Why is request used in Flask?"
   ]
  },
  {
   "cell_type": "code",
   "execution_count": null,
   "metadata": {},
   "outputs": [],
   "source": [
    "#Q2. Why is request used in Flask\n",
    "\"\"\" Ans: The request object is used to get information from the user.\n",
    " The request object is used to access the data that the client(eg. browser) sends to \n",
    " the server in a Flask web application. \n",
    " The request object is an instance of a Request subclass and provides all of the attributes Werkzeug defines. \"\"\""
   ]
  },
  {
   "cell_type": "code",
   "execution_count": null,
   "metadata": {},
   "outputs": [],
   "source": [
    "#Explain get and post methods using pyhton\n",
    "\n",
    "from flask import Flask, redirect, url_for, request\n",
    "app = Flask(__name__)\n",
    "@app.route('/') #root directory of the application\n",
    "def index():\n",
    "    return 'Welcome to the Flask tutorials'\n",
    "@app.route('/hello/<name>') #dynamic route\n",
    "def hello_name(name):\n",
    "    return 'Hello %s!' % name\n",
    "@app.route('/blog/<int:postID>') #dynamic route with type constraint\n",
    "def show_blog(postID):\n",
    "    return 'Blog Number %d' % postID\n",
    "@app.route('/rev/<float:revNo>') #dynamic route with type constraint\n",
    "def revision(revNo):\n",
    "    return 'Revision Number %f' % revNo\n",
    "@app.route('/flask') #static route\n",
    "def hello_flask():\n",
    "    return 'Hello Flask'\n",
    "@app.route('/python/') #static route\n",
    "def hello_python():\n",
    "    return 'Hello Python'\n",
    "@app.route('/login',methods = ['POST', 'GET']) #route with multiple methods\n",
    "def login():\n",
    "    if request.method == 'POST':\n",
    "        user = request.form['nm']\n",
    "        return redirect(url_for('success',name = user))\n",
    "    else:\n",
    "        user = request.args.get('nm')\n",
    "        return redirect(url_for('success',name = user))\n",
    "@app.route('/success/<name>') #route with redirecting\n",
    "def success(name):\n",
    "    return 'welcome %s' % name\n",
    "if __name__ == '__main__':\n",
    "    app.run()"
   ]
  },
  {
   "attachments": {},
   "cell_type": "markdown",
   "metadata": {},
   "source": [
    "Q3. Why is redirect() used in Flask?"
   ]
  },
  {
   "cell_type": "code",
   "execution_count": null,
   "metadata": {},
   "outputs": [],
   "source": [
    "\"\"\"Ans: The redirect() function redirects the user to another endpoint or URL. \n",
    "It takes the URL as a parameter. \"\"\"\n"
   ]
  },
  {
   "attachments": {},
   "cell_type": "markdown",
   "metadata": {},
   "source": [
    "Q4. What are templates in Flask? Why is the render_template() function used?"
   ]
  },
  {
   "cell_type": "code",
   "execution_count": null,
   "metadata": {},
   "outputs": [],
   "source": [
    "#What are templates in Flask? Why is the render_template() function used\n",
    "\"\"\"Ans: Flask provides a function called render_template() which is used to render the external HTML file to the user.\n",
    "The render_template() function is used to render the external HTML file instead of a string from inside the Python script.\"\"\"\n",
    "\n",
    "#Explain templates in Flask using python\n",
    "from flask import Flask, render_template\n",
    "app = Flask(__name__)\n",
    "@app.route('/')\n",
    "def index():\n",
    "    return render_template('hello.html')\n",
    "if __name__ == '__main__':\n",
    "    app.run()"
   ]
  },
  {
   "attachments": {},
   "cell_type": "markdown",
   "metadata": {},
   "source": [
    "Q5. Create a simple API. Use Postman to test it. Attach the screenshot of the output in the Jupyter Notebook."
   ]
  },
  {
   "cell_type": "code",
   "execution_count": null,
   "metadata": {},
   "outputs": [],
   "source": [
    "#Q5. Create a simple API. Use Postman to test it. Attach the screenshot of the output in the Jupyter Notebook\n",
    "from flask import Flask, jsonify, request\n",
    "app = Flask(__name__)\n",
    "@app.route('/add_two_nums', methods=[\"POST\"])\n",
    "def add_two_nums():\n",
    "    dataDict = request.get_json()\n",
    "    x = dataDict[\"x\"]\n",
    "    y = dataDict[\"y\"]\n",
    "    z = x + y\n",
    "    retJSON = {\n",
    "        \"z\": z\n",
    "    }\n",
    "    return jsonify(retJSON), 200\n",
    "if __name__ == \"__main__\":\n",
    "    app.run()\n"
   ]
  }
 ],
 "metadata": {
  "kernelspec": {
   "display_name": "Python 3",
   "language": "python",
   "name": "python3"
  },
  "language_info": {
   "codemirror_mode": {
    "name": "ipython",
    "version": 3
   },
   "file_extension": ".py",
   "mimetype": "text/x-python",
   "name": "python",
   "nbconvert_exporter": "python",
   "pygments_lexer": "ipython3",
   "version": "3.9.0"
  },
  "orig_nbformat": 4
 },
 "nbformat": 4,
 "nbformat_minor": 2
}
