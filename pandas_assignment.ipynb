{
 "cells": [
  {
   "cell_type": "markdown",
   "metadata": {},
   "source": [
    "Q1. Create a Pandas Series that contains the following data: 4, 8, 15, 16, 23, and 42. Then, print the series."
   ]
  },
  {
   "cell_type": "code",
   "execution_count": 2,
   "metadata": {},
   "outputs": [
    {
     "name": "stdout",
     "output_type": "stream",
     "text": [
      "0     4\n",
      "1     8\n",
      "2    15\n",
      "3    16\n",
      "4    23\n",
      "5    42\n",
      "dtype: int64\n"
     ]
    }
   ],
   "source": [
    "import pandas as pd\n",
    "data = pd.Series([4, 8, 15, 16, 23, 42])\n",
    "print(data)"
   ]
  },
  {
   "cell_type": "markdown",
   "metadata": {},
   "source": [
    "Q2. Create a variable of list type containing 10 elements in it, and apply pandas.Series function on the\n",
    "variable print it."
   ]
  },
  {
   "cell_type": "code",
   "execution_count": 3,
   "metadata": {},
   "outputs": [
    {
     "name": "stdout",
     "output_type": "stream",
     "text": [
      "0     1\n",
      "1     2\n",
      "2     3\n",
      "3     4\n",
      "4     5\n",
      "5     6\n",
      "6     7\n",
      "7     8\n",
      "8     9\n",
      "9    10\n",
      "dtype: int64\n"
     ]
    }
   ],
   "source": [
    "import pandas as pd\n",
    "list1 = [1,2,3,4,5,6,7,8,9,10]\n",
    "data = pd.Series(list1)\n",
    "print(data)"
   ]
  },
  {
   "cell_type": "code",
   "execution_count": 5,
   "metadata": {},
   "outputs": [
    {
     "name": "stdout",
     "output_type": "stream",
     "text": [
      "     Name  Age  Gender\n",
      "0   Alice   21  Female\n",
      "1     Bob   25    Male\n",
      "2  Gender   24  Female\n"
     ]
    }
   ],
   "source": [
    "data={\n",
    "    'Name':['Alice','Bob','Gender'],\n",
    "    'Age':[21,25,24],\n",
    "    'Gender':['Female','Male','Female']\n",
    "}\n",
    "print(pd.DataFrame(data))"
   ]
  },
  {
   "cell_type": "markdown",
   "metadata": {},
   "source": [
    "Q4. What is ‘DataFrame’ in pandas and how is it different from pandas.series? Explain with an example."
   ]
  },
  {
   "cell_type": "code",
   "execution_count": 9,
   "metadata": {},
   "outputs": [
    {
     "name": "stdout",
     "output_type": "stream",
     "text": [
      "0     4\n",
      "1     8\n",
      "2    15\n",
      "3    16\n",
      "4    23\n",
      "5    42\n",
      "dtype: int64\n",
      "0     1\n",
      "1     2\n",
      "2     3\n",
      "3     4\n",
      "4     5\n",
      "5     6\n",
      "6     7\n",
      "7     8\n",
      "8     9\n",
      "9    10\n",
      "dtype: int64\n"
     ]
    },
    {
     "data": {
      "text/plain": [
       "pandas.core.series.Series"
      ]
     },
     "execution_count": 9,
     "metadata": {},
     "output_type": "execute_result"
    }
   ],
   "source": [
    "#What is ‘DataFrame’ in pandas \n",
    "#DataFrame is a 2-dimensional labeled data structure with columns of potentially different types.\n",
    "#how is it different from pandas.series\n",
    "#Series is a one-dimensional labeled array capable of holding data of any type (integer, string, float, python objects, etc.).\n",
    "#Series can be thought as one column DataFrame and the difference between them are:\n",
    "#Series can only contain a single list with index, whereas DataFrame can be made of multiple Series or a single Series\n",
    "#DataFrame is a 2D data structure that can store data of different types (including characters, integers, floating point values, categorical data and more) in columns.\n",
    "\n",
    "#example\n",
    "import pandas as pd\n",
    "data = pd.Series([4, 8, 15, 16, 23, 42])\n",
    "print(data)\n",
    "type(data)#series\n",
    "#creating dataframe using series\n",
    "import pandas as pd\n",
    "list1 = [1,2,3,4,5,6,7,8,9,10]\n",
    "data = pd.Series(list1)\n",
    "print(data)\n",
    "type(data)#series"
   ]
  },
  {
   "cell_type": "markdown",
   "metadata": {},
   "source": [
    "What are some common functions you can use to manipulate data in a Pandas DataFrame? Can\n",
    "you give an example of when you might use one of these functions?"
   ]
  },
  {
   "cell_type": "code",
   "execution_count": 10,
   "metadata": {},
   "outputs": [
    {
     "name": "stdout",
     "output_type": "stream",
     "text": [
      "0    1\n",
      "1    2\n",
      "2    3\n",
      "3    4\n",
      "4    5\n",
      "dtype: int64\n",
      "5     6\n",
      "6     7\n",
      "7     8\n",
      "8     9\n",
      "9    10\n",
      "dtype: int64\n",
      "count    10.00000\n",
      "mean      5.50000\n",
      "std       3.02765\n",
      "min       1.00000\n",
      "25%       3.25000\n",
      "50%       5.50000\n",
      "75%       7.75000\n",
      "max      10.00000\n",
      "dtype: float64\n",
      "(10,)\n",
      "<class 'pandas.core.series.Series'>\n",
      "RangeIndex: 10 entries, 0 to 9\n",
      "Series name: None\n",
      "Non-Null Count  Dtype\n",
      "--------------  -----\n",
      "10 non-null     int64\n",
      "dtypes: int64(1)\n",
      "memory usage: 208.0 bytes\n",
      "None\n"
     ]
    }
   ],
   "source": [
    "#What are some common functions you can use to manipulate data in a Pandas DataFrame\n",
    "#head() and tail() function\n",
    "#head() function is used to return top n (5 by default) rows of a data frame or series.\n",
    "#tail() function is used to return bottom n (5 by default) rows of a data frame or series.\n",
    "#example\n",
    "import pandas as pd\n",
    "list1 = [1,2,3,4,5,6,7,8,9,10]\n",
    "data = pd.Series(list1)\n",
    "print(data.head())\n",
    "print(data.tail())\n",
    "#describe() method returns the summary statistics for all numeric columns including count, mean, std etc...\n",
    "#example\n",
    "import pandas as pd\n",
    "list1 = [1,2,3,4,5,6,7,8,9,10]\n",
    "data = pd.Series(list1)\n",
    "print(data.describe())\n",
    "#shape() function is used to get the current shape of dataframe\n",
    "#example\n",
    "import pandas as pd\n",
    "list1 = [1,2,3,4,5,6,7,8,9,10]\n",
    "data = pd.Series(list1)\n",
    "print(data.shape)\n",
    "#info() function is used to get a concise summary of the dataframe\n",
    "#example\n",
    "import pandas as pd\n",
    "list1 = [1,2,3,4,5,6,7,8,9,10]\n",
    "data = pd.Series(list1)\n",
    "print(data.info())"
   ]
  },
  {
   "cell_type": "markdown",
   "metadata": {},
   "source": [
    "Q6. Which of the following is mutable in nature Series, DataFrame, Panel?"
   ]
  },
  {
   "cell_type": "code",
   "execution_count": null,
   "metadata": {},
   "outputs": [],
   "source": [
    "\"\"\" \n",
    "Series, DataFrame, and Panel are all mutable in nature in Python.\n",
    "\n",
    "A Series is a one-dimensional array-like object containing a sequence of values. It can hold data of any type and is mutable, meaning that its elements can be changed.\n",
    "\n",
    "A DataFrame is a two-dimensional array-like object with rows and columns. It can hold data of different types and is mutable, meaning that its elements can be changed.\n",
    "\n",
    "A Panel is a three-dimensional array-like object with items, major_axis, and minor_axis. It can hold data of different types and is mutable, meaning that its elements can be changed.\n",
    " \"\"\""
   ]
  },
  {
   "cell_type": "markdown",
   "metadata": {},
   "source": [
    "Q7. Create a DataFrame using multiple Series. Explain with an example."
   ]
  },
  {
   "cell_type": "code",
   "execution_count": 11,
   "metadata": {},
   "outputs": [
    {
     "name": "stdout",
     "output_type": "stream",
     "text": [
      "   0  1  2\n",
      "0  1  4  7\n",
      "1  2  5  8\n",
      "2  3  6  9\n"
     ]
    }
   ],
   "source": [
    "#Q7. Create a DataFrame using multiple Series. Explain with an example.\n",
    "import pandas as pd\n",
    "\n",
    "series1 = pd.Series([1, 2, 3])\n",
    "series2 = pd.Series([4, 5, 6])\n",
    "series3 = pd.Series([7, 8, 9])\n",
    "\n",
    "df = pd.concat([series1, series2, series3], axis=1)\n",
    "\n",
    "print(df)"
   ]
  },
  {
   "cell_type": "code",
   "execution_count": null,
   "metadata": {},
   "outputs": [],
   "source": []
  }
 ],
 "metadata": {
  "kernelspec": {
   "display_name": "Python 3",
   "language": "python",
   "name": "python3"
  },
  "language_info": {
   "codemirror_mode": {
    "name": "ipython",
    "version": 3
   },
   "file_extension": ".py",
   "mimetype": "text/x-python",
   "name": "python",
   "nbconvert_exporter": "python",
   "pygments_lexer": "ipython3",
   "version": "3.9.0"
  },
  "orig_nbformat": 4
 },
 "nbformat": 4,
 "nbformat_minor": 2
}
