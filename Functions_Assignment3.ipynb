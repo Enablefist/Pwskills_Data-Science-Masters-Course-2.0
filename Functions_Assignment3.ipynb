{
 "cells": [
  {
   "attachments": {},
   "cell_type": "markdown",
   "metadata": {},
   "source": [
    "Q1. Which keyword is used to create a function? Create a function to return a list of odd numbers in the\n",
    "range of 1 to 25."
   ]
  },
  {
   "cell_type": "code",
   "execution_count": 6,
   "metadata": {},
   "outputs": [
    {
     "name": "stdout",
     "output_type": "stream",
     "text": [
      "[1, 3, 5, 7, 9, 11, 13, 15, 17, 19, 21, 23]\n",
      "[1, 3, 5, 7, 9, 11, 13, 15, 17, 19, 21, 23, 25]\n"
     ]
    }
   ],
   "source": [
    "#def keyword is used to create function\n",
    "def listOfOdd():\n",
    "    \"\"\"a function to return a list of odd numbers in the range of 1 to 25.\"\"\"\n",
    "    l1=[]\n",
    "    for i in range(1,25):\n",
    "        if i%2 != 0:\n",
    "            l1.append(i)\n",
    "    return l1\n",
    "print(listOfOdd())\n",
    "#using lambda function\n",
    "list_el=[]\n",
    "for i in range(1,26):\n",
    "    list_el.append(i)\n",
    "odd_num=list(filter(lambda x:x%2!=0,list_el))\n",
    "print(odd_num)"
   ]
  },
  {
   "attachments": {},
   "cell_type": "markdown",
   "metadata": {},
   "source": [
    "Q2. Why *args and **kwargs is used in some functions? Create a function each for *args and **kwargs to\n",
    "demonstrate their use."
   ]
  },
  {
   "cell_type": "code",
   "execution_count": 8,
   "metadata": {},
   "outputs": [
    {
     "name": "stdout",
     "output_type": "stream",
     "text": [
      "(1, 2, 3, 4, 5)\n",
      "{'a': 1, 'b': 2, 'c': 3, 'd': 4, 'e': 5}\n"
     ]
    }
   ],
   "source": [
    "#Why *args and **kwargs is used in some functions? Create a function each for *args and **kwargs to demonstrate their use\n",
    "# *args is a variable length argument used to take vraiables at a times  arguments that can also accept an unlimited amount of data as input. The developer doesn't have to wrap the data in a list or any other sequence while using them\n",
    "def func(*args):\n",
    "    print(args)\n",
    "func(1,2,3,4,5)\n",
    "#**kwargs is a keyword argument is used to convert given input to dictionary\n",
    "def func(**kwargs):\n",
    "    print(kwargs)\n",
    "func(a=1,b=2,c=3,d=4,e=5)"
   ]
  },
  {
   "attachments": {},
   "cell_type": "markdown",
   "metadata": {},
   "source": [
    "Q3. What is an iterator in python? Name the method used to initialise the iterator object and the method\n",
    "used for iteration. Use these methods to print the first five elements of the given list [2, 4, 6, 8, 10, 12, 14, 16,\n",
    "18, 20]."
   ]
  },
  {
   "cell_type": "code",
   "execution_count": 1,
   "metadata": {},
   "outputs": [
    {
     "name": "stdout",
     "output_type": "stream",
     "text": [
      "2\n",
      "4\n",
      "6\n",
      "8\n",
      "10\n"
     ]
    }
   ],
   "source": [
    "#What is an iterator in python? Name the method used to initialise the iterator object and the method used for iteration.\n",
    "#An iterator is an object that contains a countable number of values.\n",
    "#An iterator is an object that can be iterated upon, meaning that you can traverse through all the values.\n",
    "#range method is used in iterator\n",
    "#Use these methods to print the first five elements of the given list [2, 4, 6, 8, 10, 12, 14, 16, 18, 20].\n",
    "list1=[2,4,6,8,10,12,14,16,18,20]\n",
    "for i in range(5):\n",
    "    print(list1[i])"
   ]
  },
  {
   "attachments": {},
   "cell_type": "markdown",
   "metadata": {},
   "source": [
    "Q4. What is a generator function in python? Why yield keyword is used? Give an example of a generator\n",
    "function."
   ]
  },
  {
   "cell_type": "code",
   "execution_count": 3,
   "metadata": {},
   "outputs": [
    {
     "name": "stdout",
     "output_type": "stream",
     "text": [
      "1\n",
      "2\n",
      "3\n",
      "4\n",
      "5\n",
      "6\n",
      "7\n",
      "8\n",
      "9\n"
     ]
    }
   ],
   "source": [
    "#A generator function is a function that returns an object (iterator) which we can iterate over (one value at a time).\n",
    "#yield keyword is used to return a generator object\n",
    "def func():\n",
    "    for i in range(1,10):\n",
    "        yield i\n",
    "for i in func():\n",
    "    print(i)"
   ]
  },
  {
   "attachments": {},
   "cell_type": "markdown",
   "metadata": {},
   "source": [
    "Q5. Create a generator function for prime numbers less than 1000. Use the next() method to print the\n",
    "first 20 prime numbers."
   ]
  },
  {
   "cell_type": "code",
   "execution_count": 5,
   "metadata": {},
   "outputs": [
    {
     "name": "stdout",
     "output_type": "stream",
     "text": [
      "2\n",
      "3\n",
      "5\n",
      "7\n",
      "11\n",
      "13\n",
      "17\n",
      "19\n",
      "23\n",
      "29\n",
      "31\n",
      "37\n",
      "41\n",
      "43\n",
      "47\n",
      "53\n",
      "59\n",
      "61\n",
      "67\n",
      "71\n"
     ]
    }
   ],
   "source": [
    "def prime():\n",
    "    for i in range(1,1000):\n",
    "        if i>1:\n",
    "            for j in range(2,i):\n",
    "                if i%j==0:\n",
    "                    break\n",
    "            else:\n",
    "                yield i\n",
    "p=prime()\n",
    "for i in range(20):\n",
    "    print(next(p))"
   ]
  }
 ],
 "metadata": {
  "kernelspec": {
   "display_name": "Python 3",
   "language": "python",
   "name": "python3"
  },
  "language_info": {
   "codemirror_mode": {
    "name": "ipython",
    "version": 3
   },
   "file_extension": ".py",
   "mimetype": "text/x-python",
   "name": "python",
   "nbconvert_exporter": "python",
   "pygments_lexer": "ipython3",
   "version": "3.9.0"
  },
  "orig_nbformat": 4
 },
 "nbformat": 4,
 "nbformat_minor": 2
}
