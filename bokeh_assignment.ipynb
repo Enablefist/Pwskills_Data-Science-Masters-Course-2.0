{
 "cells": [
  {
   "cell_type": "markdown",
   "metadata": {},
   "source": [
    "Q1. How can you create a Bokeh plot using Python code?"
   ]
  },
  {
   "cell_type": "code",
   "execution_count": 1,
   "metadata": {},
   "outputs": [],
   "source": [
    "\"\"\" How can you create a Bokeh plot using Python code? \"\"\"\n",
    "# Answer:\n",
    "# Bokeh is a Python library for interactive visualization. It is used to create interactive plots, dashboards, and data applications.\n",
    "# Bokeh is a great library for creating reactive data visualizations, like d3 but much easier to learn (in my opinion).\n",
    "#create a Bokeh plot using Python code\n",
    "# import the necessary libraries\n",
    "from bokeh.plotting import figure\n",
    "from bokeh.io import output_file, show\n",
    "# prepare some data\n",
    "x = [1,2,3,4,5]\n",
    "y = [6,7,8,9,10]\n",
    "# prepare the output file\n",
    "output_file(\"Line.html\")\n",
    "# create a figure object\n",
    "f = figure()\n",
    "# create line plot\n",
    "f.line(x,y)\n",
    "# write the plot in the figure object\n",
    "show(f)"
   ]
  },
  {
   "cell_type": "markdown",
   "metadata": {},
   "source": [
    "Q2. What are glyphs in Bokeh, and how can you add them to a Bokeh plot? Explain with an example."
   ]
  },
  {
   "cell_type": "code",
   "execution_count": 2,
   "metadata": {},
   "outputs": [],
   "source": [
    "#What are glyphs in Bokeh, and how can you add them to a Bokeh plot? Explain with an example.\n",
    "# Answer:\n",
    "# Glyphs are the shapes we see in a plot. In Bokeh, these shapes are represented by instances of Glyph class.\n",
    "# The line() method is used to create a line glyph. It takes the following parameters:\n",
    "# x: The x-coordinates of the points of the line\n",
    "# y: The y-coordinates of the points of the line\n",
    "# line_width: The width of the line\n",
    "# line_color: The color of the line\n",
    "# line_alpha: The opacity of the line\n",
    "# line_join: The type of join between line segments\n",
    "# line_cap: The type of cap to use at the end of the line\n",
    "# line_dash: The pattern to use for the line\n",
    "# line_dash_offset: The offset for the line dash pattern\n",
    "# legend_label: A label for the line\n",
    "# Example:\n",
    "# import the necessary libraries\n",
    "from bokeh.plotting import figure\n",
    "from bokeh.io import output_file, show\n",
    "# prepare some data\n",
    "x = [1,2,3,4,5]\n",
    "y = [6,7,8,9,10]\n",
    "# prepare the output file\n",
    "output_file(\"Line.html\")\n",
    "# create a figure object\n",
    "f = figure()\n",
    "# create line plot\n",
    "f.line(x,y)\n",
    "# write the plot in the figure object\n",
    "show(f)"
   ]
  },
  {
   "cell_type": "markdown",
   "metadata": {},
   "source": [
    "Q3. How can you customize the appearance of a Bokeh plot, including the axes, title, and legend?"
   ]
  },
  {
   "cell_type": "code",
   "execution_count": null,
   "metadata": {},
   "outputs": [],
   "source": [
    "#How can you customize the appearance of a Bokeh plot, including the axes, title, and legend?\n",
    "# Answer:\n",
    "# We can customize the appearance of a Bokeh plot using the following properties:\n",
    "# title: The title of the plot\n",
    "# title_location: The location of the title\n",
    "# title_text_color: The color of the title\n",
    "# title_text_font: The font of the title\n",
    "# title_text_font_size: The font size of the title\n",
    "# title_text_font_style: The font style of the title"
   ]
  },
  {
   "cell_type": "markdown",
   "metadata": {},
   "source": [
    "Q4. What is a Bokeh server, and how can you use it to create interactive plots that can be updated in\n",
    "real time?"
   ]
  },
  {
   "cell_type": "code",
   "execution_count": 7,
   "metadata": {},
   "outputs": [],
   "source": [
    "# Bokeh server is a Python library for creating interactive plots that can be updated in real time.\n",
    "# It is used to create interactive plots, dashboards, and data applications.\n",
    "# Bokeh server is a great library for creating reactive data visualizations, like d3 but much easier to learn (in my opinion).\n",
    "# We can use the following methods to create interactive plots that can be updated in real time:\n",
    "# add_layout(): This method is used to add a layout to the plot\n",
    "# add_glyph(): This method is used to add a glyph to the plot\n",
    "# add_tools(): This method is used to add tools to the plot\n",
    "# add_layout(): This method is used to add a layout to the plot"
   ]
  },
  {
   "cell_type": "markdown",
   "metadata": {},
   "source": [
    "Q5. How can you embed a Bokeh plot into a web page or dashboard using Flask or Django?"
   ]
  },
  {
   "cell_type": "code",
   "execution_count": 9,
   "metadata": {},
   "outputs": [
    {
     "name": "stdout",
     "output_type": "stream",
     "text": [
      "Collecting django\n",
      "  Downloading Django-4.2.4-py3-none-any.whl (8.0 MB)\n",
      "     ---------------------------------------- 0.0/8.0 MB ? eta -:--:--\n",
      "     ---------------------------------------- 0.0/8.0 MB 991.0 kB/s eta 0:00:09\n",
      "      --------------------------------------- 0.2/8.0 MB 1.6 MB/s eta 0:00:05\n",
      "     - -------------------------------------- 0.3/8.0 MB 2.1 MB/s eta 0:00:04\n",
      "     -- ------------------------------------- 0.6/8.0 MB 3.1 MB/s eta 0:00:03\n",
      "     ---- ----------------------------------- 0.9/8.0 MB 3.9 MB/s eta 0:00:02\n",
      "     ------ --------------------------------- 1.3/8.0 MB 4.4 MB/s eta 0:00:02\n",
      "     -------- ------------------------------- 1.6/8.0 MB 4.7 MB/s eta 0:00:02\n",
      "     ---------- ----------------------------- 2.0/8.0 MB 5.2 MB/s eta 0:00:02\n",
      "     ------------ --------------------------- 2.4/8.0 MB 5.5 MB/s eta 0:00:02\n",
      "     ------------- -------------------------- 2.8/8.0 MB 5.9 MB/s eta 0:00:01\n",
      "     --------------- ------------------------ 3.1/8.0 MB 6.1 MB/s eta 0:00:01\n",
      "     ----------------- ---------------------- 3.5/8.0 MB 6.2 MB/s eta 0:00:01\n",
      "     ------------------- -------------------- 3.9/8.0 MB 6.3 MB/s eta 0:00:01\n",
      "     --------------------- ------------------ 4.3/8.0 MB 6.4 MB/s eta 0:00:01\n",
      "     ----------------------- ---------------- 4.7/8.0 MB 6.4 MB/s eta 0:00:01\n",
      "     ------------------------- -------------- 5.1/8.0 MB 6.7 MB/s eta 0:00:01\n",
      "     --------------------------- ------------ 5.6/8.0 MB 6.7 MB/s eta 0:00:01\n",
      "     ------------------------------ --------- 6.1/8.0 MB 6.8 MB/s eta 0:00:01\n",
      "     -------------------------------- ------- 6.4/8.0 MB 6.8 MB/s eta 0:00:01\n",
      "     ---------------------------------- ----- 7.0/8.0 MB 6.9 MB/s eta 0:00:01\n",
      "     ------------------------------------- -- 7.5/8.0 MB 7.0 MB/s eta 0:00:01\n",
      "     ------------------------------------- -- 7.6/8.0 MB 7.0 MB/s eta 0:00:01\n",
      "     ---------------------------------------  8.0/8.0 MB 7.0 MB/s eta 0:00:01\n",
      "     ---------------------------------------- 8.0/8.0 MB 6.5 MB/s eta 0:00:00\n",
      "Requirement already satisfied: tzdata in c:\\users\\lenovo\\appdata\\local\\programs\\python\\python39\\lib\\site-packages (from django) (2022.7)\n",
      "Collecting asgiref<4,>=3.6.0\n",
      "  Downloading asgiref-3.7.2-py3-none-any.whl (24 kB)\n",
      "Collecting sqlparse>=0.3.1\n",
      "  Downloading sqlparse-0.4.4-py3-none-any.whl (41 kB)\n",
      "     ---------------------------------------- 0.0/41.2 kB ? eta -:--:--\n",
      "     ---------------------------------------- 41.2/41.2 kB 1.9 MB/s eta 0:00:00\n",
      "Requirement already satisfied: typing-extensions>=4 in c:\\users\\lenovo\\appdata\\local\\programs\\python\\python39\\lib\\site-packages (from asgiref<4,>=3.6.0->django) (4.4.0)\n",
      "Installing collected packages: sqlparse, asgiref, django\n",
      "Successfully installed asgiref-3.7.2 django-4.2.4 sqlparse-0.4.4\n",
      "Note: you may need to restart the kernel to use updated packages.\n"
     ]
    },
    {
     "name": "stderr",
     "output_type": "stream",
     "text": [
      "  WARNING: The script sqlformat.exe is installed in 'c:\\Users\\Lenovo\\AppData\\Local\\Programs\\Python\\Python39\\Scripts' which is not on PATH.\n",
      "  Consider adding this directory to PATH or, if you prefer to suppress this warning, use --no-warn-script-location.\n",
      "  WARNING: The script django-admin.exe is installed in 'c:\\Users\\Lenovo\\AppData\\Local\\Programs\\Python\\Python39\\Scripts' which is not on PATH.\n",
      "  Consider adding this directory to PATH or, if you prefer to suppress this warning, use --no-warn-script-location.\n",
      "\n",
      "[notice] A new release of pip is available: 23.0.1 -> 23.2.1\n",
      "[notice] To update, run: python.exe -m pip install --upgrade pip\n"
     ]
    }
   ],
   "source": [
    "pip install django"
   ]
  },
  {
   "cell_type": "code",
   "execution_count": null,
   "metadata": {},
   "outputs": [],
   "source": [
    "# We can embed a Bokeh plot into a web page or dashboard using Flask or Django.\n",
    "# Flask is a Python web framework that is used to create web applications.\n",
    "# Django is a Python web framework that is used to create web applications.\n",
    "# We can embed a Bokeh plot into a web page or dashboard using Flask or Django.\n",
    "# Flask is a Python web framework that is used to create web applications.\n",
    "#example with bokeh \n",
    "# import the necessary libraries\n",
    "\"\"\" from bokeh.plotting import figure\n",
    "from bokeh.io import output_file, show\n",
    "from bokeh.embed import components\n",
    "# prepare some data\n",
    "x = [1,2,3,4,5]\n",
    "y = [6,7,8,9,10]\n",
    "# prepare the output file\n",
    "output_file(\"Line.html\")\n",
    "# create a figure object\n",
    "f = figure()\n",
    "# create line plot\n",
    "f.line(x,y)\n",
    "# get the components\n",
    "script, div = components(f)\n",
    "# print the components\n",
    "print(script)\n",
    "print(div) \"\"\"\n",
    "#example with flask\n",
    "# import the necessary libraries\n",
    "from flask import Flask, render_template\n",
    "from bokeh.plotting import figure\n",
    "from bokeh.embed import components\n",
    "# create a Flask application\n",
    "app = Flask(__name__)\n",
    "# create the index page function\n",
    "@app.route(\"/\")\n",
    "def index():\n",
    "    # prepare some data\n",
    "    x = [1,2,3,4,5]\n",
    "    y = [6,7,8,9,10]\n",
    "    # create a figure\n",
    "    f = figure()\n",
    "    # create line plot\n",
    "    f.line(x,y)\n",
    "    # get the components\n",
    "    script, div = components(f)\n",
    "    # render the template\n",
    "    return render_template(\"plot.html\", script=script, div=div)\n",
    "# run the app\n",
    "if __name__ == \"__main__\":\n",
    "    app.run(debug=True)\n",
    "\"\"\" #example with django\n",
    "# import the necessary libraries\n",
    "from django.shortcuts import render\n",
    "from bokeh.plotting import figure\n",
    "from bokeh.embed import components\n",
    "# create the index page function\n",
    "def index(request):\n",
    "    # prepare some data\n",
    "    x = [1,2,3,4,5]\n",
    "    y = [6,7,8,9,10]\n",
    "    # create a figure\n",
    "    f = figure()\n",
    "    # create line plot\n",
    "    f.line(x,y)\n",
    "    # get the components\n",
    "    script, div = components(f)\n",
    "    # render the template\n",
    "    return render(request, \"plot.html\", {\"script\": script, \"div\": div}) \"\"\""
   ]
  }
 ],
 "metadata": {
  "kernelspec": {
   "display_name": "Python 3",
   "language": "python",
   "name": "python3"
  },
  "language_info": {
   "codemirror_mode": {
    "name": "ipython",
    "version": 3
   },
   "file_extension": ".py",
   "mimetype": "text/x-python",
   "name": "python",
   "nbconvert_exporter": "python",
   "pygments_lexer": "ipython3",
   "version": "3.9.0"
  },
  "orig_nbformat": 4
 },
 "nbformat": 4,
 "nbformat_minor": 2
}
