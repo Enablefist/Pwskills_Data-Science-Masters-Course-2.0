{
 "cells": [
  {
   "attachments": {},
   "cell_type": "markdown",
   "metadata": {},
   "source": [
    "Q1.What is multithreading in python? hy is it used? Name the module used to handle threads in python"
   ]
  },
  {
   "cell_type": "code",
   "execution_count": null,
   "metadata": {},
   "outputs": [],
   "source": [
    "#What is multithreading in python? hy is it used? Name the module used to handle threads in python\n",
    "#Ans: Multithreading is a process of executing multiple threads simultaneously.\n",
    "#A thread is a lightweight sub-process, the smallest unit of processing.\n",
    "#threading threading module is used to handle threads in python\n",
    " "
   ]
  },
  {
   "attachments": {},
   "cell_type": "markdown",
   "metadata": {},
   "source": [
    "Q2. Why threading module used? rite the use of the following functions\n",
    "( activeCount\n",
    " currentThread\n",
    " enumerate)"
   ]
  },
  {
   "cell_type": "code",
   "execution_count": 17,
   "metadata": {},
   "outputs": [
    {
     "name": "stdout",
     "output_type": "stream",
     "text": [
      "Current thread name: MainThread\n",
      "Number of active threads: 6\n",
      "Thread name: MainThread\n",
      "Thread name: IOPub\n",
      "Thread name: Heartbeat\n",
      "Thread name: Control\n",
      "Thread name: IPythonHistorySavingThread\n",
      "Thread name: Thread-4\n"
     ]
    }
   ],
   "source": [
    "#Q2.Why threading module used?Write the use of the following functions\n",
    "#activeCount\n",
    "#currentThread\n",
    "#enumerate\n",
    "#Ans: threading module is used to handle threads in python\n",
    "#activeCount: Returns the number of thread objects that are active.\n",
    "#currentThread: Returns the current thread object.\n",
    "#enumerate: Returns a list of all thread objects that are currently active.\n",
    "#Example\n",
    "import threading\n",
    "import time\n",
    "\n",
    "current_thread = threading.currentThread()\n",
    "print(\"Current thread name:\", current_thread.name)\n",
    "\n",
    "print(\"Number of active threads:\", threading.activeCount())\n",
    "#enumerate: Returns a list of all thread objects that are currently active.\n",
    "import threading\n",
    "\n",
    "all_threads = threading.enumerate()\n",
    "for thread in all_threads:\n",
    "    print(\"Thread name:\", thread.name)\n"
   ]
  },
  {
   "attachments": {},
   "cell_type": "markdown",
   "metadata": {},
   "source": [
    "Q3.Explain the following functions\n",
    "( run\n",
    " start\n",
    " join\n",
    "' isAlive)"
   ]
  },
  {
   "cell_type": "code",
   "execution_count": 9,
   "metadata": {},
   "outputs": [
    {
     "name": "stdout",
     "output_type": "stream",
     "text": [
      "Thread startedIs thread alive? True\n",
      "\n",
      "Thread finished\n",
      "Is thread alive? False\n"
     ]
    }
   ],
   "source": [
    "\"\"\" run():\n",
    "The run() method is the entry point for a thread. It contains the code that will be executed in the thread. By default, the run() method of a Thread object calls the target function that was passed during its creation. You can override the run() method in a subclass of Thread to define the behavior specific to that thread.\n",
    "\n",
    "start():\n",
    "The start() method is used to start a thread's execution. It creates a new operating system-level thread and calls the run() method internally. When you call start(), the thread transitions from the \"new\" state to the \"runnable\" state. The operating system then schedules the thread for execution, and it runs concurrently with other threads in the program.\n",
    "\n",
    "join():\n",
    "The join() method is used to wait for a thread to finish its execution. When you call join() on a thread object, the calling thread (usually the main thread) will be blocked until the thread being joined completes. This is useful when you want to ensure that certain parts of your program wait for the completion of other threads before continuing.\n",
    "\n",
    "isAlive():\n",
    "The isAlive() method is used to check if a thread is still running. It returns True if the thread is currently executing, and False otherwise. A thread is considered alive from the moment it is started using start() until it completes its execution or is explicitly terminated. \"\"\"\n",
    "import threading\n",
    "import time\n",
    "\n",
    "def my_function():\n",
    "    print(\"Thread started\")\n",
    "    time.sleep(2)\n",
    "    print(\"Thread finished\")\n",
    "\n",
    "thread = threading.Thread(target=my_function)\n",
    "\n",
    "# Start the thread\n",
    "thread.start()\n",
    "\n",
    "# Check if the thread is running\n",
    "print(\"Is thread alive?\", thread.is_alive())\n",
    "\n",
    "# Wait for the thread to finish\n",
    "thread.join()\n",
    "\n",
    "# Check if the thread is running (after joining)\n",
    "print(\"Is thread alive?\", thread.is_alive())\n",
    "\n"
   ]
  },
  {
   "cell_type": "code",
   "execution_count": 6,
   "metadata": {},
   "outputs": [
    {
     "name": "stdout",
     "output_type": "stream",
     "text": [
      "Square of 1 is 1\n",
      "Square of 2 is 4\n",
      "Square of 3 is 9\n",
      "Square of 4 is 16\n",
      "Square of 5 is 25\n",
      "Square of 6 is 36\n",
      "Square of 7 is 49\n",
      "Square of 8 is 64\n",
      "Square of 9 is 81\n",
      "Square of 10 is 100\n",
      "Cube of 1 is 1\n",
      "Cube of 2 is 8\n",
      "Cube of 3 is 27\n",
      "Cube of 4 is 64\n",
      "Cube of 5 is 125\n",
      "Cube of 6 is 216\n",
      "Cube of 7 is 343\n",
      "Cube of 8 is 512\n",
      "Cube of 9 is 729\n",
      "Cube of 10 is 1000\n"
     ]
    }
   ],
   "source": [
    "#Write a python program to create two threads. Thread one must print the list of squares and thread two must print the list of cubes\n",
    "#Ans:\n",
    "import threading\n",
    "\n",
    "def print_squares():\n",
    "    for num in range(1, 11):\n",
    "        print(f\"Square of {num} is {num**2}\")\n",
    "\n",
    "def print_cubes():\n",
    "    for num in range(1, 11):\n",
    "        print(f\"Cube of {num} is {num**3}\")\n",
    "\n",
    "if __name__ == \"__main__\":\n",
    "    # Create thread one for printing squares\n",
    "    thread_one = threading.Thread(target=print_squares)\n",
    "\n",
    "    # Create thread two for printing cubes\n",
    "    thread_two = threading.Thread(target=print_cubes)\n",
    "\n",
    "    # Start both threads\n",
    "    thread_one.start()\n",
    "    thread_two.start()\n",
    "\n",
    "    # Wait for both threads to finish\n",
    "    thread_one.join()\n",
    "    thread_two.join()\n"
   ]
  },
  {
   "attachments": {},
   "cell_type": "markdown",
   "metadata": {},
   "source": [
    "Q5.State advantages and disadvantages of multithreading"
   ]
  },
  {
   "cell_type": "code",
   "execution_count": 7,
   "metadata": {},
   "outputs": [],
   "source": [
    "#State advantages and disadvantages of multithreading\n",
    "#Ans: Advantages of Multithreading\n",
    "#1) Multithreading improves the responsiveness of the application.\n",
    "#2) Threads are independent, so it doesn't affect other threads if an exception occurs in a single thread.\n",
    "#3) It doesn't block the user because threads are independent and you can perform multiple operations at the same time.\n",
    "#4) You can perform many operations together, so it saves time.\n",
    "#Disadvantages of Multithreading\n",
    "#1) Multithreading increases the complexity of the program.\n",
    "#2) If multiple threads share a single resource, there may be synchronization issues.\n",
    "#3) Multithreading increases the chances of deadlock.\n"
   ]
  }
 ],
 "metadata": {
  "kernelspec": {
   "display_name": "Python 3",
   "language": "python",
   "name": "python3"
  },
  "language_info": {
   "codemirror_mode": {
    "name": "ipython",
    "version": 3
   },
   "file_extension": ".py",
   "mimetype": "text/x-python",
   "name": "python",
   "nbconvert_exporter": "python",
   "pygments_lexer": "ipython3",
   "version": "3.9.0"
  },
  "orig_nbformat": 4
 },
 "nbformat": 4,
 "nbformat_minor": 2
}
