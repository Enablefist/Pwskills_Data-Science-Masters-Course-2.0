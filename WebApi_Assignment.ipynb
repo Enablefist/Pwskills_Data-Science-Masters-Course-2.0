{
 "cells": [
  {
   "attachments": {},
   "cell_type": "markdown",
   "metadata": {},
   "source": [
    "Q1. What is an API? Give an example, where an API is used in real life."
   ]
  },
  {
   "cell_type": "code",
   "execution_count": null,
   "metadata": {},
   "outputs": [],
   "source": [
    "\"\"\" What is an API? Give an example, where an API is used in real life.\n",
    "API stands for Application Programming Interface. It is a software intermediary that allows two applications to talk to each other.\n",
    "In other words, an API is the messenger that delivers your request to the provider that you're requesting it from and then delivers the response back to you.\n",
    "For example, when you use an application on your mobile phone, the application connects to the Internet and sends data to a server.\n",
    "The server then retrieves that data, interprets it, performs the necessary actions and sends it back to your phone.\n",
    "The application then interprets that data and presents you with the information you wanted in a readable way.\n",
    "This is what an API is - all of this happens via API.\n",
    "To explain this better, let us take a familiar example.\n",
    "Imagine you’re sitting at a table in a restaurant with a menu of choices to order from.\n",
    "The kitchen is the part of the “system” that will prepare your order.\n",
    "What is missing is the critical link to communicate your order to the kitchen and deliver your food back to your table.\n",
    "That’s where the waiter or API comes in. The waiter is the messenger – or API – that takes your request or order and tells the kitchen – the system – what to do.\n",
    "Then the waiter delivers the response back to you; in this case, it is the food. \"\"\""
   ]
  },
  {
   "attachments": {},
   "cell_type": "markdown",
   "metadata": {},
   "source": [
    "Q2. Give advantages and disadvantages of using API."
   ]
  },
  {
   "cell_type": "code",
   "execution_count": null,
   "metadata": {},
   "outputs": [],
   "source": [
    "\"\"\" Advantages of using API:\n",
    "1. It allows us to request data from a remote server.\n",
    "2. It allows us to save some bandwidth.\n",
    "3. It allows us to request data in a different format other than HTML.\n",
    "4. It allows us to build our own API.\n",
    "5. It allows us to request data from a server after the page has loaded.\n",
    "6. It allows us to build mashups.\n",
    "7. It allows us to request data from multiple servers.\n",
    "8. It allows us to request data from a server from a different domain.\n",
    "9. It allows us to bypass the Same-origin policy.\n",
    "\"\"\"\n",
    "\"\"\" Disadvantage of Using APIs are as follows :\n",
    "1. It can be difficult to build.\n",
    "2. It can be expensive to build.\n",
    "3. It can be difficult to maintain.\n",
    "\"\"\""
   ]
  },
  {
   "attachments": {},
   "cell_type": "markdown",
   "metadata": {},
   "source": [
    "Q3. What is a Web API? Differentiate between API and Web API."
   ]
  },
  {
   "cell_type": "code",
   "execution_count": null,
   "metadata": {},
   "outputs": [],
   "source": [
    "\"\"\" Web API is an API that is accessed using the HTTP protocol.\n",
    "Web API is a development in Web services where emphasis has been moving to simpler representational state transfer (REST) based communications.\n",
    "Restful APIs do not require XML-based Web service protocols (SOAP and WSDL) to support their interfaces.\"\"\" \n",
    "\"\"\"API is an interface that exposes an application's data to outside software, \n",
    "where as web applications are one type of API with stricter requirements. \n",
    "These requirements include network communication, SOAP as the primary protocol, and less accessibility for the public.\"\"\""
   ]
  },
  {
   "attachments": {},
   "cell_type": "markdown",
   "metadata": {},
   "source": [
    "Q4. Explain REST and SOAP Architecture. Mention shortcomings of SOAP."
   ]
  },
  {
   "cell_type": "code",
   "execution_count": null,
   "metadata": {},
   "outputs": [],
   "source": [
    "#Q4. Explain REST and SOAP Architecture. Mention shortcomings of SOAP.\n",
    "\"\"\" REST stands for Representational State Transfer. It is a software architectural style that defines a set of constraints to be used for creating Web services.\n",
    "Web services that conform to the REST architectural style, called RESTful Web services, provide interoperability between computer systems on the Internet.\n",
    "RESTful Web services allow the requesting systems to access and manipulate textual representations of Web resources by using a uniform and predefined set of stateless operations.\n",
    "Other kinds of Web services, such as SOAP Web services, expose their own arbitrary sets of operations.\n",
    "SOAP is a protocol specification for exchanging structured information in the implementation of Web Services in computer networks.\n",
    "It relies on XML Information Set for its message format and usually relies on other Application Layer protocols, most notably Hypertext Transfer Protocol (HTTP) or Simple Mail Transfer Protocol (SMTP), for message negotiation and transmission.\n",
    "SOAP can form the foundation layer of a web services protocol stack, providing a basic messaging framework upon which web services can be built.\"\"\"\n",
    "#The SOAP approach is highly structured and uses XML data format. REST is more flexible and allows applications to exchange data in multiple formats."
   ]
  },
  {
   "cell_type": "code",
   "execution_count": null,
   "metadata": {},
   "outputs": [],
   "source": [
    "#Mention shortcomings of SOAP.\n",
    "\"\"\" \n",
    "SOAP uses XML format that must be parsed to be read. It defines many standards that must be followed while developing \n",
    "the SOAP applications. So it is slow and consumes more bandwidth and resource.\n",
    "\n",
    "\n",
    "SOAP is a protocol specification for exchanging structured information in the implementation of Web Services in computer networks.\n",
    "It relies on XML Information Set for its message format and usually relies on other Application Layer protocols, \n",
    "most notably Hypertext Transfer Protocol (HTTP) or Simple Mail Transfer Protocol (SMTP), for message negotiation and transmission.\n",
    "\"\"\""
   ]
  },
  {
   "attachments": {},
   "cell_type": "markdown",
   "metadata": {},
   "source": [
    "Q5. Differentiate between REST and SOAP."
   ]
  },
  {
   "cell_type": "code",
   "execution_count": null,
   "metadata": {},
   "outputs": [],
   "source": [
    "#The SOAP approach is highly structured and uses XML data format.\n",
    "#REST is more flexible and allows applications to exchange data in multiple formats."
   ]
  }
 ],
 "metadata": {
  "kernelspec": {
   "display_name": "Python 3",
   "language": "python",
   "name": "python3"
  },
  "language_info": {
   "codemirror_mode": {
    "name": "ipython",
    "version": 3
   },
   "file_extension": ".py",
   "mimetype": "text/x-python",
   "name": "python",
   "nbconvert_exporter": "python",
   "pygments_lexer": "ipython3",
   "version": "3.9.0"
  },
  "orig_nbformat": 4
 },
 "nbformat": 4,
 "nbformat_minor": 2
}
