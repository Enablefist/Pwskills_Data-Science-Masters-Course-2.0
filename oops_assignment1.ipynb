{
 "cells": [
  {
   "attachments": {},
   "cell_type": "markdown",
   "metadata": {},
   "source": [
    "Q1. Explain Class and Object with respect to Object-Oriented Programming. Give a suitable example."
   ]
  },
  {
   "cell_type": "code",
   "execution_count": 1,
   "metadata": {},
   "outputs": [
    {
     "name": "stdout",
     "output_type": "stream",
     "text": [
      "Corolla\n",
      "Black\n",
      "Starting the engine\n"
     ]
    }
   ],
   "source": [
    "#Explain Class and Object with respect to Object-Oriented Programming. Give a suitable example.\n",
    "#Class: A class is a blueprint for the object. It is a logical entity that has some specific attributes and methods.\n",
    "#Object: An object is an instance of a class. When a class is defined, no memory is allocated but when it is instantiated (i.e. an object is created) memory is allocated.\n",
    "#Example:\n",
    "class Car:\n",
    "    def __init__(self, name, color):\n",
    "        self.name = name\n",
    "        self.color = color\n",
    "    def start(self):\n",
    "        print(\"Starting the engine\")\n",
    "my_car = Car(\"Corolla\", \"Black\")\n",
    "print(my_car.name)\n",
    "print(my_car.color)\n",
    "my_car.start()"
   ]
  },
  {
   "attachments": {},
   "cell_type": "markdown",
   "metadata": {},
   "source": [
    "Q2. Name the four pillars of OOPs."
   ]
  },
  {
   "cell_type": "code",
   "execution_count": 3,
   "metadata": {},
   "outputs": [],
   "source": [
    "#Q2. Name the four pillars of OOPs.\n",
    "#Ans: The four pillars of OOPs are:\n",
    "#1. Encapsulation\n",
    "#2. Abstraction\n",
    "#3. Inheritance\n",
    "#4. Polymorphism"
   ]
  },
  {
   "cell_type": "code",
   "execution_count": 5,
   "metadata": {},
   "outputs": [
    {
     "name": "stdout",
     "output_type": "stream",
     "text": [
      "Name is  Jessa and salary is 40000\n"
     ]
    }
   ],
   "source": [
    "#A class is an example of encapsulation as it binds all the data members (instance variables) and methods into a single unit.\n",
    "class Employee:\n",
    "    def __init__(self, name, salary):\n",
    "        # public member\n",
    "        self.name = name\n",
    "        # private member\n",
    "        # not accessible outside of a class\n",
    "        self.__salary = salary\n",
    "\n",
    "    def show(self):\n",
    "        print(\"Name is \", self.name, \"and salary is\", self.__salary)\n",
    "\n",
    "emp = Employee(\"Jessa\", 40000)\n",
    "emp.show()\n",
    "\n",
    "# access salary from outside of a class\n",
    "#print(emp.__salary)"
   ]
  },
  {
   "cell_type": "code",
   "execution_count": 6,
   "metadata": {},
   "outputs": [
    {
     "name": "stdout",
     "output_type": "stream",
     "text": [
      "It has auto drive mode\n",
      "It has manual drive mode\n",
      "It has auto drive mode\n",
      "It has manual drive mode\n"
     ]
    }
   ],
   "source": [
    "#Example for Abstraction\n",
    "#Abstraction is the process of hiding the internal details and showing the functionality only.\n",
    "#Example:\n",
    "from abc import ABC, abstractmethod\n",
    "class Car(ABC):\n",
    "    def __init__(self, name):\n",
    "        self.name = name\n",
    "    def drive(self):\n",
    "        pass\n",
    "class Tesla(Car):\n",
    "    def drive(self):\n",
    "        print(\"It has auto drive mode\")\n",
    "class Suzuki(Car):\n",
    "    def drive(self):\n",
    "        print(\"It has manual drive mode\")\n",
    "class Honda(Car):\n",
    "    def drive(self):\n",
    "        print(\"It has auto drive mode\")\n",
    "class Toyota(Car):\n",
    "    def drive(self):\n",
    "        print(\"It has manual drive mode\")\n",
    "t = Tesla(\"Tesla\")\n",
    "t.drive()\n",
    "s = Suzuki(\"Suzuki\")\n",
    "s.drive()\n",
    "h = Honda(\"Honda\")\n",
    "h.drive()\n",
    "t = Toyota(\"Toyota\")\n",
    "t.drive()"
   ]
  },
  {
   "cell_type": "code",
   "execution_count": 7,
   "metadata": {},
   "outputs": [
    {
     "name": "stdout",
     "output_type": "stream",
     "text": [
      "Niko says Woof!\n",
      "Felix says Meow!\n"
     ]
    }
   ],
   "source": [
    "#Example for polymorphism\n",
    "#Polymorphism is the ability of an object to take on many forms.\n",
    "#Example:\n",
    "class Dog:\n",
    "    def __init__(self, name):\n",
    "        self.name = name\n",
    "    def speak(self):\n",
    "        return self.name + \" says Woof!\"\n",
    "class Cat:\n",
    "    def __init__(self, name):\n",
    "        self.name = name\n",
    "    def speak(self):\n",
    "        return self.name + \" says Meow!\"\n",
    "niko = Dog(\"Niko\")\n",
    "felix = Cat(\"Felix\")\n",
    "print(niko.speak())\n",
    "print(felix.speak())"
   ]
  },
  {
   "cell_type": "code",
   "execution_count": 9,
   "metadata": {},
   "outputs": [
    {
     "name": "stdout",
     "output_type": "stream",
     "text": [
      "BMW X1 Black 35000\n",
      "BMW X1 change gear to number 5\n"
     ]
    }
   ],
   "source": [
    "#Example for inheritance\n",
    "#Inheritance is the process by which one class takes the attributes and methods from another class.\n",
    "#Example:\n",
    "# Base class\n",
    "class Vehicle:\n",
    "\n",
    "    def __init__(self, name, color, price):\n",
    "        self.name = name\n",
    "        self.color = color\n",
    "        self.price = price\n",
    "\n",
    "    def info(self):\n",
    "        print(self.name, self.color, self.price)\n",
    "\n",
    "# Child class\n",
    "class Car(Vehicle):\n",
    "\n",
    "    def change_gear(self, no):\n",
    "        print(self.name, 'change gear to number', no)\n",
    "\n",
    "# Create object of Car\n",
    "car = Car('BMW X1', 'Black', 35000)\n",
    "car.info()\n",
    "car.change_gear(5)"
   ]
  },
  {
   "cell_type": "markdown",
   "metadata": {},
   "source": [
    "Q3. Explain why the __init__() function is used. Give a suitable example."
   ]
  },
  {
   "cell_type": "code",
   "execution_count": 10,
   "metadata": {},
   "outputs": [
    {
     "name": "stdout",
     "output_type": "stream",
     "text": [
      "Name is  Jessa and salary is 40000\n"
     ]
    }
   ],
   "source": [
    "#Q3. Explain why the __init__() function is used. Give a suitable example.\n",
    "#Ans: The __init__() function is used to assign values to object properties, or other operations that are necessary to do when the object is being created.\n",
    "#Example:\n",
    "class Employee:\n",
    "    def __init__(self, name, salary):\n",
    "        self.name = name\n",
    "        self.salary = salary\n",
    "    def show(self):\n",
    "        print(\"Name is \", self.name, \"and salary is\", self.salary)\n",
    "emp = Employee(\"Jessa\", 40000)\n",
    "emp.show()"
   ]
  },
  {
   "attachments": {},
   "cell_type": "markdown",
   "metadata": {},
   "source": [
    "Q4. Why self is used in OOPs?"
   ]
  },
  {
   "cell_type": "code",
   "execution_count": 11,
   "metadata": {},
   "outputs": [],
   "source": [
    "#Q4. Why self is used in OOPs?\n",
    "#Ans: self represents the instance of the class. By using the “self” keyword we can access the attributes and methods of the class in python."
   ]
  },
  {
   "attachments": {},
   "cell_type": "markdown",
   "metadata": {},
   "source": [
    "Q5. What is inheritance? Give an example for each type of inheritance."
   ]
  },
  {
   "cell_type": "code",
   "execution_count": 12,
   "metadata": {},
   "outputs": [
    {
     "name": "stdout",
     "output_type": "stream",
     "text": [
      "This function is in parent class.\n",
      "This function is in child class.\n"
     ]
    }
   ],
   "source": [
    "#What is inheritance? Give an example for each type of inheritance.\n",
    "#Ans: Inheritance is the process by which one class takes the attributes and methods from another class.\n",
    "#Example:\n",
    "# Single Inheritance\n",
    "class Parent:\n",
    "    def func1(self):\n",
    "        print(\"This function is in parent class.\")\n",
    "class Child(Parent):\n",
    "    def func2(self):\n",
    "        print(\"This function is in child class.\")\n",
    "object = Child()\n",
    "object.func1()\n",
    "object.func2()"
   ]
  },
  {
   "cell_type": "code",
   "execution_count": null,
   "metadata": {},
   "outputs": [],
   "source": []
  }
 ],
 "metadata": {
  "kernelspec": {
   "display_name": "Python 3",
   "language": "python",
   "name": "python3"
  },
  "language_info": {
   "codemirror_mode": {
    "name": "ipython",
    "version": 3
   },
   "file_extension": ".py",
   "mimetype": "text/x-python",
   "name": "python",
   "nbconvert_exporter": "python",
   "pygments_lexer": "ipython3",
   "version": "3.9.0"
  },
  "orig_nbformat": 4
 },
 "nbformat": 4,
 "nbformat_minor": 2
}
