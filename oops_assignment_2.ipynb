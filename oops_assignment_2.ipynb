{
 "cells": [
  {
   "attachments": {},
   "cell_type": "markdown",
   "metadata": {},
   "source": [
    "Q1, Create a vehicle class with an init method having instance variables as name_of_vehicle, max_speed\n",
    "and average_of_vehicle."
   ]
  },
  {
   "cell_type": "code",
   "execution_count": 1,
   "metadata": {},
   "outputs": [
    {
     "name": "stdout",
     "output_type": "stream",
     "text": [
      "name_of_vehicle: car\n",
      "max_speed: 100\n",
      "average_of_vehicle: 50\n"
     ]
    }
   ],
   "source": [
    "#Q1, Create a vehicle class with an init method having instance variables as name_of_vehicle, max_speed and average_of_vehicle.\n",
    "class vehical:\n",
    "    def __init__(self,name_of_vehicle,max_speed,average_of_vehicle):\n",
    "        self.name_of_vehicle=name_of_vehicle\n",
    "        self.max_speed=max_speed\n",
    "        self.average_of_vehicle=average_of_vehicle\n",
    "    def print(self):\n",
    "        print(\"name_of_vehicle:\",self.name_of_vehicle)\n",
    "        print(\"max_speed:\",self.max_speed)\n",
    "        print(\"average_of_vehicle:\",self.average_of_vehicle)\n",
    "v=vehical(\"car\",100,50)\n",
    "v.print()"
   ]
  },
  {
   "attachments": {},
   "cell_type": "markdown",
   "metadata": {},
   "source": [
    "Q2 Create a child class car from the vehicle class created in Que 1, which will inherit the vehicle class.\n",
    "Create a method named seating_capacity which takes capacity as an argument and returns the name of\n",
    "the vehicle and its seating capacity."
   ]
  },
  {
   "cell_type": "code",
   "execution_count": 4,
   "metadata": {},
   "outputs": [
    {
     "name": "stdout",
     "output_type": "stream",
     "text": [
      "name_of_vehicle: car\n",
      "capacity: 5\n"
     ]
    }
   ],
   "source": [
    "#Create a child class car from the vehicle class created in Que 1, which will inherit the vehicle class.Create a method named seating_capacity which takes capacity as an argument and returns the name of the vehicle and its seating capacity.\n",
    "class car(vehical):\n",
    "    def __init__(self,name_of_vehicle,max_speed,average_of_vehicle,capacity):\n",
    "        super().__init__(name_of_vehicle,max_speed,average_of_vehicle)\n",
    "        self.capacity=capacity\n",
    "    def seating_capacity(self):\n",
    "        print(\"name_of_vehicle:\",self.name_of_vehicle)\n",
    "        print(\"capacity:\",self.capacity)\n",
    "c=car(\"car\",100,50,5)\n",
    "c.seating_capacity()"
   ]
  },
  {
   "attachments": {},
   "cell_type": "markdown",
   "metadata": {},
   "source": [
    "Q3. What is multiple inheritance? Write a python code to demonstrate multiple inheritance."
   ]
  },
  {
   "cell_type": "code",
   "execution_count": 5,
   "metadata": {},
   "outputs": [
    {
     "name": "stdout",
     "output_type": "stream",
     "text": [
      "init of A called\n",
      "init of C called\n"
     ]
    }
   ],
   "source": [
    " #Q3. What is multiple inheritance? Write a python code to demonstrate multiple inheritance.\n",
    "\"\"\" Multiple inheritance is a feature of some object-oriented computer programming languages in which an object or class \n",
    "can inherit characteristics and features from more than one parent object or parent class. \"\"\"\n",
    "class A:\n",
    "    def __init__(self):\n",
    "        print(\"init of A called\")\n",
    "class B:\n",
    "    def __init__(self):\n",
    "        print(\"init of B called\")\n",
    "class C(A,B):\n",
    "    def __init__(self):\n",
    "        super().__init__()\n",
    "        print(\"init of C called\")\n",
    "c=C()"
   ]
  },
  {
   "attachments": {},
   "cell_type": "markdown",
   "metadata": {},
   "source": [
    "Q4. What are getter and setter in python? Create a class and create a getter and a setter method in this\n",
    "class."
   ]
  },
  {
   "cell_type": "code",
   "execution_count": 9,
   "metadata": {},
   "outputs": [
    {
     "name": "stdout",
     "output_type": "stream",
     "text": [
      "Name: Jessa 14\n",
      "Name: Jessa 16\n"
     ]
    }
   ],
   "source": [
    "#Q4. What are getter and setter in python?\n",
    "\"\"\" Getters and setters are used in Python to avoid direct access of class attributes\"\"\" \n",
    "class Student:\n",
    "    def __init__(self, name, age):\n",
    "        # private member\n",
    "        self.name = name\n",
    "        self.__age = age\n",
    "\n",
    "    # getter method\n",
    "    def get_age(self):\n",
    "        return self.__age\n",
    "\n",
    "    # setter method\n",
    "    def set_age(self, age):\n",
    "        self.__age = age\n",
    "\n",
    "stud = Student('Jessa', 14)\n",
    "\n",
    "# retrieving age using getter\n",
    "print('Name:', stud.name, stud.get_age())\n",
    "# changing age using setter\n",
    "stud.set_age(16)\n",
    "# retrieving age using getter\n",
    "print('Name:', stud.name, stud.get_age())\n"
   ]
  },
  {
   "attachments": {},
   "cell_type": "markdown",
   "metadata": {},
   "source": [
    "Q5.What is method overriding in python? Write a python code to demonstrate method overriding."
   ]
  },
  {
   "cell_type": "code",
   "execution_count": 11,
   "metadata": {},
   "outputs": [
    {
     "name": "stdout",
     "output_type": "stream",
     "text": [
      "This function is in child class.\n"
     ]
    }
   ],
   "source": [
    "#Q5.What is method overriding in python? Write a python code to demonstrate method overriding.\n",
    "\"\"\" Method overriding is an ability of any object-oriented programming language that allows a subclass or child class to provide a \n",
    "specific implementation of a method that is already provided by one of its super-classes or parent classes. \"\"\"\n",
    "class Parent:\n",
    "    def func1(self):\n",
    "        print(\"This function is in parent class.\")\n",
    "class Child(Parent):\n",
    "    def func1(self):\n",
    "                print(\"This function is in child class.\")\n",
    "object = Child()\n",
    "object.func1()"
   ]
  },
  {
   "cell_type": "code",
   "execution_count": null,
   "metadata": {},
   "outputs": [],
   "source": []
  }
 ],
 "metadata": {
  "kernelspec": {
   "display_name": "Python 3",
   "language": "python",
   "name": "python3"
  },
  "language_info": {
   "codemirror_mode": {
    "name": "ipython",
    "version": 3
   },
   "file_extension": ".py",
   "mimetype": "text/x-python",
   "name": "python",
   "nbconvert_exporter": "python",
   "pygments_lexer": "ipython3",
   "version": "3.9.0"
  },
  "orig_nbformat": 4
 },
 "nbformat": 4,
 "nbformat_minor": 2
}
