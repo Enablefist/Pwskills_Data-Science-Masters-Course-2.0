{
 "cells": [
  {
   "cell_type": "markdown",
   "metadata": {},
   "source": [
    "Q1. List any five functions of the pandas library with execution."
   ]
  },
  {
   "cell_type": "markdown",
   "metadata": {},
   "source": [
    "The pandas library is a powerful Python library for data analysis and manipulation. Here are five functions of the pandas library with execution:"
   ]
  },
  {
   "cell_type": "markdown",
   "metadata": {},
   "source": [
    "Pandas is a powerful library for data manipulation and analysis in Python. It offers a wide range of useful functions and methods to work with structured data in the form of DataFrames and Series. Here are some of the most commonly used pandas functions and methods:\n",
    "\n",
    "1. **Reading Data:**\n",
    "   - `pd.read_csv()`: Read data from a CSV file.\n",
    "   - `pd.read_excel()`: Read data from an Excel file.\n",
    "   - `pd.read_json()`: Read data from a JSON file.\n",
    "   - `pd.read_sql()`: Read data from a SQL database.\n",
    "\n",
    "2. **Creating DataFrames:**\n",
    "   - `pd.DataFrame(data)`: Create a DataFrame from data like a list, dictionary, or ndarray.\n",
    "   - `pd.DataFrame.from_dict()`: Create a DataFrame from a dictionary.\n",
    "\n",
    "3. **Viewing Data:**\n",
    "   - `df.head()`: View the first few rows of a DataFrame.\n",
    "   - `df.tail()`: View the last few rows of a DataFrame.\n",
    "   - `df.info()`: Get information about the DataFrame.\n",
    "   - `df.describe()`: Generate summary statistics of the DataFrame.\n",
    "\n",
    "4. **Selecting Data:**\n",
    "   - `df['column_name']`: Select a single column.\n",
    "   - `df[['col1', 'col2']]`: Select multiple columns.\n",
    "   - `df.loc[row_label]`: Select rows by label.\n",
    "   - `df.iloc[row_index]`: Select rows by integer index.\n",
    "\n",
    "5. **Filtering Data:**\n",
    "   - `df[df['column'] > value]`: Filter rows based on a condition.\n",
    "   - `df.query('column > value')`: Filter rows using SQL-like queries.\n",
    "\n",
    "6. **Sorting Data:**\n",
    "   - `df.sort_values(by='column')`: Sort DataFrame by one or more columns.\n",
    "   - `df.sort_index()`: Sort DataFrame by index.\n",
    "\n",
    "7. **Aggregating Data:**\n",
    "   - `df.groupby('column').agg({'other_column': 'mean'})`: Group by a column and apply aggregation functions.\n",
    "   - `df.pivot_table()`: Create pivot tables.\n",
    "\n",
    "8. **Modifying Data:**\n",
    "   - `df['column'].apply(function)`: Apply a function to a column.\n",
    "   - `df['new_column'] = value`: Add a new column to the DataFrame.\n",
    "   - `df.drop('column', axis=1)`: Drop a column.\n",
    "   - `df.rename(columns={'old_name': 'new_name'})`: Rename columns.\n",
    "\n",
    "9. **Handling Missing Data:**\n",
    "   - `df.isnull()`: Check for missing values.\n",
    "   - `df.dropna()`: Remove rows with missing values.\n",
    "   - `df.fillna(value)`: Fill missing values with a specified value.\n",
    "\n",
    "10. **Merging and Joining Data:**\n",
    "    - `pd.concat([df1, df2])`: Concatenate DataFrames.\n",
    "    - `pd.merge(df1, df2, on='key_column')`: Merge DataFrames based on a common column.\n",
    "\n",
    "11. **Time Series Data:**\n",
    "    - `pd.to_datetime()`: Convert a column to datetime format.\n",
    "    - `df.resample()`: Resample time series data.\n",
    "\n",
    "12. **Plotting and Visualization:**\n",
    "    - `df.plot()`: Create various plots (line, bar, pie, etc.).\n",
    "    - `df.hist()`: Plot histograms.\n",
    "    - `df.boxplot()`: Create box plots.\n",
    "\n",
    "13. **Exporting Data:**\n",
    "    - `df.to_csv()`: Write DataFrame to a CSV file.\n",
    "    - `df.to_excel()`: Write DataFrame to an Excel file.\n",
    "    - `df.to_json()`: Convert DataFrame to JSON format.\n",
    "\n",
    "These are just some of the many functions and methods provided by pandas. Depending on your specific data analysis needs, you may find other pandas functions and methods helpful as well. The pandas documentation is a valuable resource for exploring the library in more detail: https://pandas.pydata.org/docs/."
   ]
  },
  {
   "cell_type": "code",
   "execution_count": 7,
   "metadata": {},
   "outputs": [
    {
     "name": "stdout",
     "output_type": "stream",
     "text": [
      "   Student ID  Test Score\n",
      "0           1          85\n",
      "1           2          92\n",
      "2           3          78\n",
      "3           4          92\n",
      "4           5          88\n",
      "0    85\n",
      "1    92\n",
      "2    78\n",
      "3    92\n",
      "4    88\n",
      "5    78\n",
      "6    85\n",
      "7    92\n",
      "8    88\n",
      "9    85\n",
      "Name: Test Score, dtype: int64\n",
      "   Student ID  Test Score\n",
      "1           2          92\n",
      "3           4          92\n",
      "4           5          88\n",
      "7           8          92\n",
      "8           9          88\n",
      "   Student ID  Test Score\n",
      "1           2          92\n",
      "3           4          92\n",
      "7           8          92\n",
      "4           5          88\n",
      "8           9          88\n",
      "0           1          85\n",
      "6           7          85\n",
      "9          10          85\n",
      "2           3          78\n",
      "5           6          78\n",
      "Mean: 86.3\n",
      "Median: 86.5\n",
      "Mode: 85\n",
      "   Student ID  Test Score  Doubled_Score\n",
      "0           1          85            170\n",
      "1           2          92            184\n",
      "2           3          78            156\n",
      "3           4          92            184\n",
      "4           5          88            176\n",
      "5           6          78            156\n",
      "6           7          85            170\n",
      "7           8          92            184\n",
      "8           9          88            176\n",
      "9          10          85            170\n",
      "   Student ID  Test Score  Doubled_Score Student Name Uppercase_Name\n",
      "0           1          85            170        Alice          ALICE\n",
      "1           2          92            184          Bob            BOB\n",
      "2           3          78            156      Charlie        CHARLIE\n",
      "3           4          92            184        David          DAVID\n",
      "4           5          88            176          Eve            EVE\n",
      "5           6          78            156        Frank          FRANK\n",
      "6           7          85            170        Grace          GRACE\n",
      "7           8          92            184       Hannah         HANNAH\n",
      "8           9          88            176          Ivy            IVY\n",
      "9          10          85            170         Jack           JACK\n",
      "Index([False, True], dtype='bool')\n",
      "    Student ID  Test Score  Doubled_Score Student Name Uppercase_Name Category\n",
      "0            1          85          170.0        Alice          ALICE    False\n",
      "1            2          92          184.0          Bob            BOB     True\n",
      "2            3          78          156.0      Charlie        CHARLIE    False\n",
      "3            4          92          184.0        David          DAVID     True\n",
      "4            5          88          176.0          Eve            EVE     True\n",
      "5            6          78          156.0        Frank          FRANK    False\n",
      "6            7          85          170.0        Grace          GRACE    False\n",
      "7            8          92          184.0       Hannah         HANNAH     True\n",
      "8            9          88          176.0          Ivy            IVY     True\n",
      "9           10          85          170.0         Jack           JACK    False\n",
      "10          11          90            NaN          NaN            NaN      NaN\n",
      "11          12          87            NaN          NaN            NaN      NaN\n",
      "   Student ID Student Name    variable  value\n",
      "0           1        Alice  Test Score     85\n",
      "1           2          Bob  Test Score     92\n",
      "2           3      Charlie  Test Score     78\n",
      "3           4        David  Test Score     92\n",
      "4           5          Eve  Test Score     88\n",
      "5           6        Frank  Test Score     78\n",
      "6           7        Grace  Test Score     85\n",
      "7           8       Hannah  Test Score     92\n",
      "8           9          Ivy  Test Score     88\n",
      "9          10         Jack  Test Score     85\n"
     ]
    }
   ],
   "source": [
    "import pandas as pd\n",
    "import statistics\n",
    "\n",
    "# Reading Data\n",
    "df = pd.read_csv('D:\\Data Science Masters course\\pandas\\student_data .csv')\n",
    "\n",
    "# Viewing Data\n",
    "print(df.head())\n",
    "\n",
    "# Selecting Data\n",
    "selected_column = df['Test Score']\n",
    "print(selected_column)\n",
    "\n",
    "# Filtering Data\n",
    "filtered_df = df[df['Test Score'] > 85]\n",
    "print(filtered_df)\n",
    "\n",
    "# Sorting Data\n",
    "sorted_df = df.sort_values(by='Test Score', ascending=False)\n",
    "print(sorted_df)\n",
    "\n",
    "# Aggregating Data\n",
    "mean_score = df['Test Score'].mean()\n",
    "median_score = statistics.median(df['Test Score'])\n",
    "mode_score = statistics.mode(df['Test Score'])\n",
    "print(\"Mean:\", mean_score)\n",
    "print(\"Median:\", median_score)\n",
    "print(\"Mode:\", mode_score)\n",
    "\n",
    "# Handling Missing Data\n",
    "df.dropna()  # Remove rows with missing values\n",
    "df.fillna(0)  # Fill missing values with 0\n",
    "\n",
    "# Exporting Data\n",
    "df.to_csv('new_student_data.csv', index=False)\n",
    "\n",
    "# Custom Functions\n",
    "def custom_function(x):\n",
    "    return x * 2\n",
    "\n",
    "df['Doubled_Score'] = df['Test Score'].apply(custom_function)\n",
    "print(df)\n",
    "\n",
    "# String Operations\n",
    "df['Student Name'] = ['Alice', 'Bob', 'Charlie', 'David', 'Eve', 'Frank', 'Grace', 'Hannah', 'Ivy', 'Jack']\n",
    "df['Uppercase_Name'] = df['Student Name'].str.upper()\n",
    "print(df)\n",
    "\n",
    "# Categorical Data\n",
    "df['Category'] = pd.Categorical(df['Test Score'] > 85, categories=[False, True], ordered=True)\n",
    "print(df['Category'].cat.categories)\n",
    "\n",
    "# Combining DataFrames\n",
    "df2 = pd.DataFrame({'Student ID': [11, 12], 'Test Score': [90, 87]})\n",
    "combined_df = pd.concat([df, df2], ignore_index=True)\n",
    "print(combined_df)\n",
    "\n",
    "# Reshaping Data\n",
    "melted_df = pd.melt(df, id_vars=['Student ID', 'Student Name'], value_vars=['Test Score'])\n",
    "print(melted_df)\n"
   ]
  },
  {
   "cell_type": "markdown",
   "metadata": {},
   "source": [
    "Q2. Given a Pandas DataFrame df with columns 'A', 'B', and 'C', write a Python function to re-index the\n",
    "DataFrame with a new index that starts from 1 and increments by 2 for each row."
   ]
  },
  {
   "cell_type": "code",
   "execution_count": 10,
   "metadata": {},
   "outputs": [
    {
     "name": "stdout",
     "output_type": "stream",
     "text": [
      "    A   B   C\n",
      "1  10  40  70\n",
      "3  20  50  80\n",
      "5  30  60  90\n"
     ]
    }
   ],
   "source": [
    "import pandas as pd\n",
    "\n",
    "# Create your DataFrame, df\n",
    "data = {'A': [10, 20, 30], 'B': [40, 50, 60], 'C': [70, 80, 90]}\n",
    "df = pd.DataFrame(data)\n",
    "\n",
    "# Re-index the DataFrame with a new index\n",
    "df.index = range(1, len(df) * 2, 2)\n",
    "\n",
    "# Now, df has a new index starting from 1 and incrementing by 2 for each row\n",
    "print(df)\n"
   ]
  },
  {
   "cell_type": "markdown",
   "metadata": {},
   "source": [
    "Q3. You have a Pandas DataFrame df with a column named 'Values'. Write a Python function that\n",
    "iterates over the DataFrame and calculates the sum of the first three values in the 'Values' column. The\n",
    "function should print the sum to the console."
   ]
  },
  {
   "cell_type": "code",
   "execution_count": 21,
   "metadata": {},
   "outputs": [
    {
     "name": "stdout",
     "output_type": "stream",
     "text": [
      "60\n"
     ]
    },
    {
     "data": {
      "text/html": [
       "<div>\n",
       "<style scoped>\n",
       "    .dataframe tbody tr th:only-of-type {\n",
       "        vertical-align: middle;\n",
       "    }\n",
       "\n",
       "    .dataframe tbody tr th {\n",
       "        vertical-align: top;\n",
       "    }\n",
       "\n",
       "    .dataframe thead th {\n",
       "        text-align: right;\n",
       "    }\n",
       "</style>\n",
       "<table border=\"1\" class=\"dataframe\">\n",
       "  <thead>\n",
       "    <tr style=\"text-align: right;\">\n",
       "      <th></th>\n",
       "      <th>values</th>\n",
       "    </tr>\n",
       "  </thead>\n",
       "  <tbody>\n",
       "    <tr>\n",
       "      <th>0</th>\n",
       "      <td>10</td>\n",
       "    </tr>\n",
       "    <tr>\n",
       "      <th>1</th>\n",
       "      <td>20</td>\n",
       "    </tr>\n",
       "    <tr>\n",
       "      <th>2</th>\n",
       "      <td>30</td>\n",
       "    </tr>\n",
       "  </tbody>\n",
       "</table>\n",
       "</div>"
      ],
      "text/plain": [
       "   values\n",
       "0      10\n",
       "1      20\n",
       "2      30"
      ]
     },
     "execution_count": 21,
     "metadata": {},
     "output_type": "execute_result"
    }
   ],
   "source": [
    "data = {'values': [10, 20, 30]}\n",
    "df2=pd.DataFrame(data)\n",
    "sum_of_first_three_values = df2['values'].iloc[:3].sum()\n",
    "print(sum_of_first_three_values)\n",
    "df2"
   ]
  },
  {
   "cell_type": "markdown",
   "metadata": {},
   "source": [
    "Q4. Given a Pandas DataFrame df with a column 'Text', write a Python function to create a new column\n",
    "'Word_Count' that contains the number of words in each row of the 'Text' column."
   ]
  },
  {
   "cell_type": "code",
   "execution_count": 23,
   "metadata": {},
   "outputs": [
    {
     "name": "stdout",
     "output_type": "stream",
     "text": [
      "                               Text  Word_Count\n",
      "0        This is a sample sentence.           5\n",
      "1      Count the words in this one.           6\n",
      "2  Another example with more words.           5\n"
     ]
    }
   ],
   "source": [
    "import pandas as pd\n",
    "\n",
    "# Create your DataFrame, df, with a 'Text' column\n",
    "data = {'Text': [\"This is a sample sentence.\", \"Count the words in this one.\", \"Another example with more words.\"]}\n",
    "df = pd.DataFrame(data)\n",
    "\n",
    "# Add a new column 'Word_Count' that contains the number of words in each 'Text' row\n",
    "df['Word_Count'] = df['Text'].apply(lambda x: len(str(x).split()))\n",
    "\n",
    "# Now, df has a new 'Word_Count' column with word counts in each row\n",
    "print(df)\n"
   ]
  },
  {
   "cell_type": "markdown",
   "metadata": {},
   "source": [
    "Q5. How are DataFrame.size() and DataFrame.shape() different?"
   ]
  },
  {
   "cell_type": "code",
   "execution_count": 3,
   "metadata": {},
   "outputs": [
    {
     "name": "stdout",
     "output_type": "stream",
     "text": [
      "6\n",
      "(3, 2)\n"
     ]
    }
   ],
   "source": [
    "\"\"\" #The size() function returns the number of elements (rows * columns) in a DataFrame,while the shape() function\n",
    "returns a tuple containing the number of rows and columns. \"\"\"\n",
    "import pandas as pd\n",
    "\n",
    "df = pd.DataFrame({'A': [1, 2, 3], 'B': [4, 5, 6]})\n",
    "\n",
    "print(df.size)  # 6\n",
    "print(df.shape)  # (3, 2)"
   ]
  },
  {
   "cell_type": "markdown",
   "metadata": {},
   "source": [
    "Q6. Which function of pandas do we use to read an excel file?"
   ]
  },
  {
   "cell_type": "code",
   "execution_count": null,
   "metadata": {},
   "outputs": [],
   "source": [
    "#we can read excel file by using following statement\n",
    "#df = pd.read_excel('D:\\Data Science Masters course\\pandas\\taxonomy.csv.xls') "
   ]
  },
  {
   "cell_type": "markdown",
   "metadata": {},
   "source": [
    "Q7. You have a Pandas DataFrame df that contains a column named 'Email' that contains email\n",
    "addresses in the format 'username@domain.com'. Write a Python function that creates a new column\n",
    "'Username' in df that contains only the username part of each email address."
   ]
  },
  {
   "cell_type": "code",
   "execution_count": 6,
   "metadata": {},
   "outputs": [
    {
     "name": "stdout",
     "output_type": "stream",
     "text": [
      "               Email Username\n",
      "0  user1@example.com    user1\n",
      "1  user2@example.com    user2\n",
      "2  user3@example.com    user3\n"
     ]
    }
   ],
   "source": [
    "import pandas as pd\n",
    "\n",
    "def extract_username(email):\n",
    "    # Split the email address at the '@' symbol and select the first part\n",
    "    username = email.split('@')[0]\n",
    "    return username\n",
    "\n",
    "# Sample DataFrame\n",
    "data = {'Email': ['user1@example.com', 'user2@example.com', 'user3@example.com']}\n",
    "df = pd.DataFrame(data)\n",
    "\n",
    "# Apply the extract_username function to create the 'Username' column\n",
    "df['Username'] = df['Email'].apply(extract_username)\n",
    "\n",
    "# Display the DataFrame with the 'Username' column\n",
    "print(df)\n"
   ]
  },
  {
   "cell_type": "markdown",
   "metadata": {},
   "source": [
    "Q8. You have a Pandas DataFrame df with columns 'A', 'B', and 'C'. Write a Python function that selects\n",
    "all rows where the value in column 'A' is greater than 5 and the value in column 'B' is less than 10. The\n",
    "function should return a new DataFrame that contains only the selected rows."
   ]
  },
  {
   "cell_type": "code",
   "execution_count": 10,
   "metadata": {},
   "outputs": [
    {
     "name": "stdout",
     "output_type": "stream",
     "text": [
      "   A  B   C\n",
      "0  6  3  10\n",
      "2  8  5   8\n",
      "4  7  6   5\n"
     ]
    }
   ],
   "source": [
    "import pandas as pd\n",
    "\n",
    "# Sample DataFrame\n",
    "data = {'A': [6, 2, 8, 4, 7],\n",
    "        'B': [3, 9, 5, 2, 6],\n",
    "        'C': [10, 12, 8, 7, 5]}\n",
    "\n",
    "df = pd.DataFrame(data)\n",
    "\n",
    "def select_rows(df):\n",
    "    # Use boolean indexing to select rows meeting the conditions\n",
    "    selected_rows = df[(df['A'] > 5) & (df['B'] < 10)]\n",
    "    return selected_rows\n",
    "\n",
    "# Call the function to get the selected rows\n",
    "selected_df = select_rows(df)\n",
    "\n",
    "# Display the selected DataFrame\n",
    "print(selected_df)\n"
   ]
  },
  {
   "cell_type": "markdown",
   "metadata": {},
   "source": [
    "Q9. Given a Pandas DataFrame df with a column 'Values', write a Python function to calculate the mean,\n",
    "median, and standard deviation of the values in the 'Values' column."
   ]
  },
  {
   "cell_type": "code",
   "execution_count": 11,
   "metadata": {},
   "outputs": [
    {
     "name": "stdout",
     "output_type": "stream",
     "text": [
      "Mean: 15.0\n",
      "Median: 13.5\n",
      "Standard Deviation: 6.44980619863884\n"
     ]
    }
   ],
   "source": [
    "import pandas as pd\n",
    "\n",
    "# Sample DataFrame\n",
    "data = {'Values': [12, 15, 20, 10, 8, 25]}\n",
    "df = pd.DataFrame(data)\n",
    "\n",
    "def calculate_statistics(df):\n",
    "    # Calculate mean, median, and standard deviation\n",
    "    mean_value = df['Values'].mean()\n",
    "    median_value = df['Values'].median()\n",
    "    std_deviation = df['Values'].std()\n",
    "    \n",
    "    return mean_value, median_value, std_deviation\n",
    "\n",
    "# Call the function to calculate statistics\n",
    "mean, median, std = calculate_statistics(df)\n",
    "\n",
    "# Display the results\n",
    "print(\"Mean:\", mean)\n",
    "print(\"Median:\", median)\n",
    "print(\"Standard Deviation:\", std)\n"
   ]
  },
  {
   "cell_type": "markdown",
   "metadata": {},
   "source": [
    "Q10. Given a Pandas DataFrame df with a column 'Sales' and a column 'Date', write a Python function to\n",
    "create a new column 'MovingAverage' that contains the moving average of the sales for the past 7 days\n",
    "for each row in the DataFrame. The moving average should be calculated using a window of size 7 and\n",
    "should include the current day."
   ]
  },
  {
   "cell_type": "code",
   "execution_count": 12,
   "metadata": {},
   "outputs": [
    {
     "name": "stdout",
     "output_type": "stream",
     "text": [
      "         Date  Sales  MovingAverage\n",
      "0  2023-09-01     50      50.000000\n",
      "1  2023-09-02     60      55.000000\n",
      "2  2023-09-03     45      51.666667\n",
      "3  2023-09-04     55      52.500000\n",
      "4  2023-09-05     70      56.000000\n",
      "5  2023-09-06     80      60.000000\n",
      "6  2023-09-07     65      60.714286\n",
      "7  2023-09-08     75      64.285714\n",
      "8  2023-09-09     90      68.571429\n",
      "9  2023-09-10     55      70.000000\n",
      "10 2023-09-11     60      70.714286\n",
      "11 2023-09-12     70      70.714286\n",
      "12 2023-09-13     80      70.714286\n",
      "13 2023-09-14     85      73.571429\n",
      "14 2023-09-15     95      76.428571\n",
      "15 2023-09-16     70      73.571429\n",
      "16 2023-09-17     75      76.428571\n",
      "17 2023-09-18     60      76.428571\n",
      "18 2023-09-19     45      72.857143\n",
      "19 2023-09-20     50      68.571429\n"
     ]
    }
   ],
   "source": [
    "import pandas as pd\n",
    "\n",
    "# Sample DataFrame\n",
    "data = {'Date': pd.date_range(start='2023-09-01', periods=20, freq='D'),\n",
    "        'Sales': [50, 60, 45, 55, 70, 80, 65, 75, 90, 55, 60, 70, 80, 85, 95, 70, 75, 60, 45, 50]}\n",
    "\n",
    "df = pd.DataFrame(data)\n",
    "\n",
    "# Calculate the moving average with a window size of 7\n",
    "df['MovingAverage'] = df['Sales'].rolling(window=7, min_periods=1).mean()\n",
    "\n",
    "# Display the DataFrame with the 'MovingAverage' column\n",
    "print(df)\n"
   ]
  },
  {
   "cell_type": "markdown",
   "metadata": {},
   "source": [
    "Q11. You have a Pandas DataFrame df with a column 'Date'. Write a Python function that creates a new\n",
    "column 'Weekday' in the DataFrame. The 'Weekday' column should contain the weekday name (e.g.\n",
    "Monday, Tuesday) corresponding to each date in the 'Date' column."
   ]
  },
  {
   "cell_type": "code",
   "execution_count": 13,
   "metadata": {},
   "outputs": [
    {
     "name": "stdout",
     "output_type": "stream",
     "text": [
      "        Date    Weekday\n",
      "0 2023-01-01     Sunday\n",
      "1 2023-01-02     Monday\n",
      "2 2023-01-03    Tuesday\n",
      "3 2023-01-04  Wednesday\n",
      "4 2023-01-05   Thursday\n"
     ]
    }
   ],
   "source": [
    "import pandas as pd\n",
    "\n",
    "# Sample DataFrame\n",
    "data = {'Date': pd.date_range(start='2023-01-01', periods=5, freq='D')}\n",
    "df = pd.DataFrame(data)\n",
    "\n",
    "def add_weekday_column(df):\n",
    "    # Extract weekday names from the 'Date' column and assign them to 'Weekday'\n",
    "    df['Weekday'] = df['Date'].dt.strftime('%A')\n",
    "    return df\n",
    "\n",
    "# Call the function to add the 'Weekday' column\n",
    "df_with_weekday = add_weekday_column(df)\n",
    "\n",
    "# Display the DataFrame with the 'Weekday' column\n",
    "print(df_with_weekday)\n"
   ]
  },
  {
   "cell_type": "markdown",
   "metadata": {},
   "source": [
    "Q12. Given a Pandas DataFrame df with a column 'Date' that contains timestamps, write a Python\n",
    "function to select all rows where the date is between '2023-01-01' and '2023-01-31'."
   ]
  },
  {
   "cell_type": "code",
   "execution_count": 15,
   "metadata": {},
   "outputs": [
    {
     "name": "stdout",
     "output_type": "stream",
     "text": [
      "         Date\n",
      "0  2023-01-01\n",
      "1  2023-01-02\n",
      "2  2023-01-03\n",
      "3  2023-01-04\n",
      "4  2023-01-05\n",
      "5  2023-01-06\n",
      "6  2023-01-07\n",
      "7  2023-01-08\n",
      "8  2023-01-09\n",
      "9  2023-01-10\n",
      "10 2023-01-11\n",
      "11 2023-01-12\n",
      "12 2023-01-13\n",
      "13 2023-01-14\n",
      "14 2023-01-15\n",
      "15 2023-01-16\n",
      "16 2023-01-17\n",
      "17 2023-01-18\n",
      "18 2023-01-19\n",
      "19 2023-01-20\n",
      "20 2023-01-21\n",
      "21 2023-01-22\n",
      "22 2023-01-23\n",
      "23 2023-01-24\n",
      "24 2023-01-25\n",
      "25 2023-01-26\n",
      "26 2023-01-27\n",
      "27 2023-01-28\n",
      "28 2023-01-29\n",
      "29 2023-01-30\n",
      "30 2023-01-31\n"
     ]
    }
   ],
   "source": [
    "import pandas as pd\n",
    "\n",
    "# Sample DataFrame\n",
    "data = {'Date': pd.date_range(start='2023-01-01', end='2023-01-31', freq='D')}\n",
    "df = pd.DataFrame(data)\n",
    "\n",
    "def select_rows_in_date_range(df, start_date, end_date):\n",
    "    # Convert start_date and end_date to datetime objects\n",
    "    start_date = pd.to_datetime(start_date)\n",
    "    end_date = pd.to_datetime(end_date)\n",
    "    \n",
    "    # Use boolean indexing to select rows within the date range\n",
    "    selected_rows = df[(df['Date'] >= start_date) & (df['Date'] <= end_date)]\n",
    "    \n",
    "    return selected_rows\n",
    "\n",
    "# Call the function to select rows within the date range\n",
    "start_date = '2023-01-01'\n",
    "end_date = '2023-01-31'\n",
    "selected_df = select_rows_in_date_range(df, start_date, end_date)\n",
    "\n",
    "# Display the selected DataFrame\n",
    "print(selected_df)\n"
   ]
  },
  {
   "cell_type": "markdown",
   "metadata": {},
   "source": [
    "Q13. To use the basic functions of pandas, what is the first and foremost necessary library that needs to\n",
    "be imported?"
   ]
  },
  {
   "cell_type": "code",
   "execution_count": null,
   "metadata": {},
   "outputs": [],
   "source": [
    "import pandas as pd"
   ]
  }
 ],
 "metadata": {
  "kernelspec": {
   "display_name": "Python 3",
   "language": "python",
   "name": "python3"
  },
  "language_info": {
   "codemirror_mode": {
    "name": "ipython",
    "version": 3
   },
   "file_extension": ".py",
   "mimetype": "text/x-python",
   "name": "python",
   "nbconvert_exporter": "python",
   "pygments_lexer": "ipython3",
   "version": "3.9.0"
  },
  "orig_nbformat": 4
 },
 "nbformat": 4,
 "nbformat_minor": 2
}
