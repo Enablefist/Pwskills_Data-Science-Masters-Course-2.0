{
 "cells": [
  {
   "attachments": {},
   "cell_type": "markdown",
   "metadata": {},
   "source": [
    "1)#How do you comment code in Python? What are the different types of comments?"
   ]
  },
  {
   "cell_type": "code",
   "execution_count": 2,
   "metadata": {},
   "outputs": [
    {
     "data": {
      "text/plain": [
       "'This is multi line comment'"
      ]
     },
     "execution_count": 2,
     "metadata": {},
     "output_type": "execute_result"
    }
   ],
   "source": [
    "#How do you comment code in Python? What are the different types of comments?\n",
    "#Two Types of comment \n",
    "#1. Single line comment\n",
    "#2. Multi line comment\n",
    "#Single line comment\n",
    "#This is single line comment\n",
    "#Multi line comment\n",
    "\"\"\"This is multi line comment\"\"\""
   ]
  },
  {
   "attachments": {},
   "cell_type": "markdown",
   "metadata": {},
   "source": [
    "2)What are variables in Python? How do you declare and assign values to variables?"
   ]
  },
  {
   "cell_type": "code",
   "execution_count": 3,
   "metadata": {},
   "outputs": [
    {
     "name": "stdout",
     "output_type": "stream",
     "text": [
      "100\n",
      "1000.0\n",
      "John\n",
      "1\n",
      "1\n",
      "1\n",
      "1\n",
      "2\n",
      "john\n"
     ]
    }
   ],
   "source": [
    "#What are variables in Python? How do you declare and assign values to variables\n",
    "#Variables are nothing but reserved memory locations to store values. This means that when you create a variable you reserve some space in memory.\n",
    "#Based on the data type of a variable, the interpreter allocates memory and decides what can be stored in the reserved memory.\n",
    "#Therefore, by assigning different data types to variables, you can store integers, decimals or characters in these variables.\n",
    "#Assigning Values to Variables\n",
    "#Python variables do not need explicit declaration to reserve memory space. The declaration happens automatically when you assign a value to a variable.\n",
    "#The equal sign (=) is used to assign values to variables.\n",
    "#The operand to the left of the = operator is the name of the variable and the operand to the right of the = operator is the value stored in the variable.\n",
    "#For example −\n",
    "#Example\n",
    "counter = 100          # An integer assignment\n",
    "miles   = 1000.0       # A floating point\n",
    "name    = \"John\"       # A string\n",
    "print (counter)\n",
    "print (miles)\n",
    "print (name)\n",
    "#Output\n",
    "#100\n",
    "#1000.0\n",
    "#John\n",
    "#The print statement prints the value of the variable.\n",
    "#Python allows you to assign a single value to several variables simultaneously.\n",
    "#For example −\n",
    "#Example\n",
    "a = b = c = 1\n",
    "print (a)\n",
    "print (b)\n",
    "print (c)\n",
    "#Output\n",
    "#1\n",
    "#1\n",
    "#1\n",
    "#Here, an integer object is created with the value 1, and all the three variables are assigned to the same memory location. You can also assign multiple objects to multiple variables. For example −\n",
    "#Example\n",
    "a, b, c = 1, 2, \"john\"\n",
    "print (a)\n",
    "print (b)\n",
    "print (c)\n",
    "#Output\n",
    "#1\n",
    "#2\n",
    "#john"
   ]
  },
  {
   "attachments": {},
   "cell_type": "markdown",
   "metadata": {},
   "source": [
    "3)How do you convert one data type to another in Python?\n"
   ]
  },
  {
   "cell_type": "code",
   "execution_count": 4,
   "metadata": {},
   "outputs": [
    {
     "name": "stdout",
     "output_type": "stream",
     "text": [
      "After converting to integer base 2 : 18\n",
      "After converting to float : 10010.0\n",
      "After converting character to integer : 52\n",
      "After converting 56 to hexadecimal string : 0x38\n",
      "After converting 56 to octal string : 0o70\n",
      "After converting string to tuple : ('g', 'e', 'e', 'k', 's')\n",
      "After converting string to set : {'s', 'e', 'k', 'g'}\n",
      "After converting string to list : ['g', 'e', 'e', 'k', 's']\n",
      "After converting integer to complex number : (1+2j)\n",
      "After converting integer to string : 1\n",
      "After converting tuple to dictionary : {'a': 1, 'f': 2, 'g': 3}\n",
      "After converting string to complex number : (5-9j)\n",
      "After converting integer to character : 8\n",
      "After converting string to integer base 2 : 32\n",
      "After converting string to integer base 2 : 32\n"
     ]
    }
   ],
   "source": [
    "#How do you convert one data type to another in Python?\n",
    "#Python defines type conversion functions to directly convert one data type to another which is useful in day to day and competitive programming.\n",
    "#This article is aimed at providing information about certain conversion functions.\n",
    "#Types of Conversion\n",
    "#1. int(a,base) : This function converts any data type to integer. ‘Base’ specifies the base in which string is if data type is string.\n",
    "#2. float() : This function is used to convert any data type to a floating point number\n",
    "#3. ord() : This function is used to convert a character to integer.\n",
    "#4. hex() : This function is to convert integer to hexadecimal string.\n",
    "#5. oct() : This function is to convert integer to octal string.\n",
    "#6. tuple() : This function is used to convert to a tuple.\n",
    "#7. set() : This function returns the type after converting to set.\n",
    "#8. list() : This function is used to convert any data type to a list type.\n",
    "#9. dict() : This function is used to convert a tuple of order (key,value) into a dictionary.\n",
    "#10. str() : Used to convert integer into a string.\n",
    "#11. complex(real,imag) : : This function converts real numbers to complex(real,imag) number.\n",
    "#12. chr() : Returns string representation of character given by integer argument.\n",
    "#13. unichr() : Returns string representation of character given by integer argument.\n",
    "#14. ord() : Returns integer representation of a character.\n",
    "#15. bin() : Function to convert integer to binary string.\n",
    "\n",
    "#example \n",
    "# Python code to demonstrate Type conversion\n",
    "# using int(), float()\n",
    "# initializing string\n",
    "s = \"10010\"\n",
    "# printing string converting to int base 2\n",
    "c = int(s,2)\n",
    "print (\"After converting to integer base 2 : \", end=\"\")\n",
    "print (c)\n",
    "# printing string converting to float\n",
    "e = float(s)\n",
    "print (\"After converting to float : \", end=\"\")\n",
    "print (e)\n",
    "# Python code to demonstrate Type conversion\n",
    "# using ord(), hex(), oct()\n",
    "# initializing integer\n",
    "s = '4'\n",
    "# printing character converting to integer\n",
    "c = ord(s)\n",
    "print (\"After converting character to integer : \",end=\"\")\n",
    "print (c)\n",
    "# printing integer converting to hexadecimal string\n",
    "c = hex(56)\n",
    "print (\"After converting 56 to hexadecimal string : \",end=\"\")\n",
    "print (c)\n",
    "# printing integer converting to octal string\n",
    "c = oct(56)\n",
    "print (\"After converting 56 to octal string : \",end=\"\")\n",
    "print (c)\n",
    "# Python code to demonstrate Type conversion\n",
    "# using tuple(), set(), list()\n",
    "# initializing string\n",
    "s = 'geeks'\n",
    "# printing string converting to tuple\n",
    "c = tuple(s)\n",
    "print (\"After converting string to tuple : \",end=\"\")\n",
    "print (c)\n",
    "# printing string converting to set\n",
    "c = set(s)\n",
    "print (\"After converting string to set : \",end=\"\")\n",
    "print (c)\n",
    "# printing string converting to list\n",
    "c = list(s)\n",
    "print (\"After converting string to list : \",end=\"\")\n",
    "print (c)\n",
    "# Python code to demonstrate Type conversion\n",
    "# using dict(), complex(), str()\n",
    "# initializing integers\n",
    "a = 1\n",
    "b = 2\n",
    "# initializing tuple\n",
    "tup = (('a', 1) ,('f', 2), ('g', 3))\n",
    "# printing integer converting to complex number\n",
    "c = complex(1,2)\n",
    "print (\"After converting integer to complex number : \",end=\"\")\n",
    "print (c)\n",
    "# printing integer converting to string\n",
    "c = str(a)\n",
    "print (\"After converting integer to string : \",end=\"\")\n",
    "print (c)\n",
    "# printing tuple converting to expression dictionary\n",
    "c = dict(tup)\n",
    "print (\"After converting tuple to dictionary : \",end=\"\")\n",
    "print (c)\n",
    "# printing string converting to complex number\n",
    "c = complex('5-9j')\n",
    "print (\"After converting string to complex number : \",end=\"\")\n",
    "print (c)\n",
    "# printing string converting to string\n",
    "c = chr(56)\n",
    "print (\"After converting integer to character : \",end=\"\")\n",
    "print (c)\n",
    "# printing string converting to integer base 2\n",
    "c = int('00100000',2)\n",
    "print (\"After converting string to integer base 2 : \",end=\"\")\n",
    "print (c)\n",
    "# printing string converting to integer base 2\n",
    "c = int('0x20',16)\n",
    "print (\"After converting string to integer base 2 : \",end=\"\")\n",
    "print (c)"
   ]
  },
  {
   "attachments": {},
   "cell_type": "markdown",
   "metadata": {},
   "source": [
    "Q4. How do you write and execute a Python script from the command line?"
   ]
  },
  {
   "cell_type": "code",
   "execution_count": 5,
   "metadata": {},
   "outputs": [],
   "source": [
    "#Python is an interpreted language, and you can run the scripts directly, either using:\n",
    "#python hello.py\n",
    "#or by making it executable first with chmod +x hello.py and then ./hello.py.\n",
    "#You can also run Python scripts from a command line by supplying the script name as an argument to the Python interpreter:\n",
    "#python3 hello.py\n",
    "#This assumes that the script is in the current working directory. If the file is elsewhere on the system, you need to provide the full path to it, such as:\n",
    "#python3 /home/user/hello.py"
   ]
  },
  {
   "attachments": {},
   "cell_type": "markdown",
   "metadata": {},
   "source": [
    "q.5 Given a list my_list = [1, 2, 3, 4, 5], write the code to slice the list and obtain the sub-list [2, 3].\n"
   ]
  },
  {
   "cell_type": "code",
   "execution_count": 6,
   "metadata": {},
   "outputs": [
    {
     "name": "stdout",
     "output_type": "stream",
     "text": [
      "[2, 3]\n"
     ]
    }
   ],
   "source": [
    "#Given a list my_list = [1, 2, 3, 4, 5], write the code to slice the list and obtain the sub-list [2, 3].\n",
    "#Example\n",
    "my_list = [1, 2, 3, 4, 5]\n",
    "print(my_list[1:3])\n",
    "#Output\n",
    "#[2, 3]\n",
    "#Explanation\n",
    "#The slice operator [1:3] returns a list containing the elements at index 1 and 2, i.e., 2 and 3.\n",
    "#Note:\n",
    "#The first index is inclusive and the last index is exclusive. So, the slice operator [1:3] returns a list containing the elements at index 1 and 2, i.e., 2 and 3."
   ]
  },
  {
   "attachments": {},
   "cell_type": "markdown",
   "metadata": {},
   "source": [
    "Q.6 What is a complex number in mathematics, and how is it represented in Python?\n"
   ]
  },
  {
   "cell_type": "code",
   "execution_count": 13,
   "metadata": {},
   "outputs": [
    {
     "name": "stdout",
     "output_type": "stream",
     "text": [
      "(5+3j)\n",
      "The real part of complex number is : 5.0\n",
      "The imaginary part of complex number is : 3.0\n"
     ]
    }
   ],
   "source": [
    "#What is a complex number in mathematics, and how is it represented in Python\n",
    "#A complex number is a number that can be expressed in the form a + bi, where a and b are real numbers, and i is a solution of the equation x2 = −1. Because no real number satisfies this equation, i is called an imaginary number. \n",
    "#For the complex number a + bi, a is called the real part, and b is called the imaginary part.\n",
    "#Despite the historical nomenclature \"imaginary\", complex numbers are regarded in the mathematical sciences as just as \"real\" as the real numbers, and are fundamental in many aspects of the scientific description of the natural world.\n",
    "#Example\n",
    "#The following are examples of complex numbers:\n",
    "#3 + 2i\n",
    "#4 – 5i\n",
    "#-2 + 6i\n",
    "import cmath\n",
    " \n",
    "# Initializing real numbers\n",
    "x = 5\n",
    "y = 3\n",
    " \n",
    "# converting x and y into complex number\n",
    "z = complex(x,y)\n",
    "print(z)\n",
    "# printing real and imaginary part of complex number\n",
    "print (\"The real part of complex number is : \",end=\"\")\n",
    "print (z.real)\n",
    " \n",
    "print (\"The imaginary part of complex number is : \",end=\"\")\n",
    "print (z.imag)"
   ]
  },
  {
   "attachments": {},
   "cell_type": "markdown",
   "metadata": {},
   "source": [
    "Q.7 What is the correct way to declare a variable named age and assign the value 25 to it?\n"
   ]
  },
  {
   "cell_type": "code",
   "execution_count": 14,
   "metadata": {},
   "outputs": [
    {
     "name": "stdout",
     "output_type": "stream",
     "text": [
      "25\n"
     ]
    }
   ],
   "source": [
    "#The correct way to declare a variable named age and assign the value 25 to it is:\n",
    "#The following code declares a variable named age and assigns the value 25 to it:\n",
    "age = 25\n",
    "print(age)"
   ]
  },
  {
   "attachments": {},
   "cell_type": "markdown",
   "metadata": {},
   "source": [
    "Q.8 Declare a variable named price and assign the value 9.99 to it. What data type does this variable\n",
    "belong to?\n"
   ]
  },
  {
   "cell_type": "code",
   "execution_count": 16,
   "metadata": {},
   "outputs": [
    {
     "name": "stdout",
     "output_type": "stream",
     "text": [
      "<class 'float'>\n"
     ]
    }
   ],
   "source": [
    "price=9.99\n",
    "print(type(price))"
   ]
  },
  {
   "attachments": {},
   "cell_type": "markdown",
   "metadata": {},
   "source": [
    "Q.9 Create a variable named name and assign your full name to it as a string. How would you print the\n",
    "value of this variable?"
   ]
  },
  {
   "cell_type": "code",
   "execution_count": 17,
   "metadata": {},
   "outputs": [
    {
     "name": "stdout",
     "output_type": "stream",
     "text": [
      "Sai Dinesh\n"
     ]
    }
   ],
   "source": [
    "name=\"Sai Dinesh\"\n",
    "print(name)"
   ]
  },
  {
   "attachments": {},
   "cell_type": "markdown",
   "metadata": {},
   "source": [
    "Q.10 Given the string \"Hello, World!\", extract the substring \"World\".\n"
   ]
  },
  {
   "cell_type": "code",
   "execution_count": 25,
   "metadata": {},
   "outputs": [
    {
     "name": "stdout",
     "output_type": "stream",
     "text": [
      "World!\n"
     ]
    }
   ],
   "source": [
    "string=\"Hello,World!\"\n",
    "convert_list=string.split(\",\")\n",
    "print(convert_list[1])"
   ]
  },
  {
   "attachments": {},
   "cell_type": "markdown",
   "metadata": {},
   "source": [
    "Q11. Create a variable named \"is_student\" and assign it a boolean value indicating whether you are\n",
    "currently a student or not."
   ]
  },
  {
   "cell_type": "code",
   "execution_count": 27,
   "metadata": {},
   "outputs": [
    {
     "name": "stdout",
     "output_type": "stream",
     "text": [
      "True\n"
     ]
    }
   ],
   "source": [
    "is_student=True\n",
    "print(bool(is_student))"
   ]
  }
 ],
 "metadata": {
  "kernelspec": {
   "display_name": "Python 3",
   "language": "python",
   "name": "python3"
  },
  "language_info": {
   "codemirror_mode": {
    "name": "ipython",
    "version": 3
   },
   "file_extension": ".py",
   "mimetype": "text/x-python",
   "name": "python",
   "nbconvert_exporter": "python",
   "pygments_lexer": "ipython3",
   "version": "3.9.0"
  },
  "orig_nbformat": 4
 },
 "nbformat": 4,
 "nbformat_minor": 2
}
